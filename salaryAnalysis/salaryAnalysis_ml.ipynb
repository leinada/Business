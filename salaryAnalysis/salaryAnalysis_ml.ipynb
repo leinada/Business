{
 "cells": [
  {
   "cell_type": "markdown",
   "metadata": {
    "toc": true
   },
   "source": [
    "<h1>Table of Contents<span class=\"tocSkip\"></span></h1>\n",
    "<div class=\"toc\"><ul class=\"toc-item\"><li><span><a href=\"#Problem-statement\" data-toc-modified-id=\"Problem-statement-1\"><span class=\"toc-item-num\">1&nbsp;&nbsp;</span>Problem statement</a></span><ul class=\"toc-item\"><li><span><a href=\"#Functions\" data-toc-modified-id=\"Functions-1.1\"><span class=\"toc-item-num\">1.1&nbsp;&nbsp;</span>Functions</a></span></li></ul></li><li><span><a href=\"#Process-data-for-ML\" data-toc-modified-id=\"Process-data-for-ML-2\"><span class=\"toc-item-num\">2&nbsp;&nbsp;</span>Process data for ML</a></span><ul class=\"toc-item\"><li><span><a href=\"#Preprocessing\" data-toc-modified-id=\"Preprocessing-2.1\"><span class=\"toc-item-num\">2.1&nbsp;&nbsp;</span>Preprocessing</a></span></li></ul></li><li><span><a href=\"#check-out--some-default-estimators\" data-toc-modified-id=\"check-out--some-default-estimators-3\"><span class=\"toc-item-num\">3&nbsp;&nbsp;</span>check out  some default estimators</a></span></li><li><span><a href=\"#Random-Forest-regressor\" data-toc-modified-id=\"Random-Forest-regressor-4\"><span class=\"toc-item-num\">4&nbsp;&nbsp;</span>Random Forest regressor</a></span><ul class=\"toc-item\"><li><ul class=\"toc-item\"><li><span><a href=\"#Feature-importance\" data-toc-modified-id=\"Feature-importance-4.0.1\"><span class=\"toc-item-num\">4.0.1&nbsp;&nbsp;</span>Feature importance</a></span></li></ul></li></ul></li><li><span><a href=\"#Make-predictions-with-unseen-test-data\" data-toc-modified-id=\"Make-predictions-with-unseen-test-data-5\"><span class=\"toc-item-num\">5&nbsp;&nbsp;</span>Make predictions with unseen test data</a></span></li></ul></div>"
   ]
  },
  {
   "cell_type": "markdown",
   "metadata": {},
   "source": [
    "# Problem statement"
   ]
  },
  {
   "cell_type": "markdown",
   "metadata": {},
   "source": [
    "We would like to analyze  salary dataset from a hospital system. This data contains the base salary for certain positions. In particular,\n",
    "- We would like to develop a ML model for the nursing salaries based on the department, experience, ..."
   ]
  },
  {
   "cell_type": "code",
   "execution_count": 1,
   "metadata": {},
   "outputs": [
    {
     "data": {
      "text/html": [
       "        <script type=\"text/javascript\">\n",
       "        window.PlotlyConfig = {MathJaxConfig: 'local'};\n",
       "        if (window.MathJax) {MathJax.Hub.Config({SVG: {font: \"STIX-Web\"}});}\n",
       "        if (typeof require !== 'undefined') {\n",
       "        require.undef(\"plotly\");\n",
       "        requirejs.config({\n",
       "            paths: {\n",
       "                'plotly': ['https://cdn.plot.ly/plotly-latest.min']\n",
       "            }\n",
       "        });\n",
       "        require(['plotly'], function(Plotly) {\n",
       "            window._Plotly = Plotly;\n",
       "        });\n",
       "        }\n",
       "        </script>\n",
       "        "
      ]
     },
     "metadata": {},
     "output_type": "display_data"
    },
    {
     "name": "stdout",
     "output_type": "stream",
     "text": [
      "Python Version: 3.6.7 | packaged by conda-forge | (default, Jul  2 2019, 02:18:42) \n",
      "[GCC 7.3.0]\n"
     ]
    }
   ],
   "source": [
    "import sys\n",
    "import numpy as np\n",
    "import pandas as pd\n",
    "from pandas import Series\n",
    "from pandas import datetime\n",
    "from datetime import timedelta\n",
    "import dateutil.parser\n",
    "import matplotlib\n",
    "from prettytable import PrettyTable\n",
    "\n",
    "\n",
    "import lightgbm as lgb\n",
    "import xgboost as xgb\n",
    "import scipy.stats as st\n",
    "\n",
    "# Sklearn models\n",
    "import sklearn\n",
    "import sklearn.preprocessing as preprocessing\n",
    "from sklearn.model_selection import GridSearchCV, RandomizedSearchCV, cross_val_score, train_test_split,KFold \n",
    "from sklearn.metrics import precision_score, roc_auc_score, recall_score, confusion_matrix,roc_curve \n",
    "from sklearn.metrics import precision_recall_curve, accuracy_score,make_scorer\n",
    "from sklearn.metrics import mean_squared_error, mean_absolute_error, mean_squared_log_error\n",
    "\n",
    "\n",
    "from sklearn.tree import DecisionTreeRegressor\n",
    "from sklearn.ensemble import RandomForestRegressor\n",
    "from sklearn.neural_network import MLPRegressor\n",
    "\n",
    "from sklearn.linear_model import Lasso, ElasticNet, Ridge, SGDRegressor\n",
    "from sklearn.svm import SVR, NuSVR\n",
    "from sklearn.ensemble import BaggingRegressor, RandomForestRegressor\n",
    "from sklearn.neighbors import KNeighborsClassifier\n",
    "from sklearn.cluster import KMeans\n",
    "\n",
    "\n",
    "\n",
    "import matplotlib\n",
    "import matplotlib.pyplot as plt\n",
    "import seaborn as sns\n",
    "\n",
    "import plotly\n",
    "import plotly.graph_objs as go\n",
    "\n",
    "\n",
    "import chart_studio.plotly  as py1\n",
    "import plotly.offline as py\n",
    "from plotly.offline import  iplot\n",
    "py.init_notebook_mode(connected=True)\n",
    "from plotly import tools\n",
    "from plotly.tools import FigureFactory as ff\n",
    "\n",
    "\n",
    "\n",
    "from IPython.core.display import display, HTML, Javascript\n",
    "import json, random\n",
    "from string import Template\n",
    "from collections import Counter \n",
    "\n",
    "\n",
    "from contextlib import contextmanager\n",
    "\n",
    "@contextmanager\n",
    "def timer(title):\n",
    "    t0 = time.time()\n",
    "    yield\n",
    "    print(\"{} - done in {:.0f}s\".format(title, time.time() - t0))\n",
    "\n",
    "\n",
    "\n",
    "sns.set_style('whitegrid')\n",
    "sns.set_context('talk')\n",
    "\n",
    "  \n",
    "\n",
    "# Print all rows and columns\n",
    "pd.set_option('display.max_columns', None)\n",
    "pd.set_option('display.max_rows', None)\n",
    "\n",
    "\n",
    "print(\"Python Version: %s\" % sys.version)\n",
    "#print(\"Plotly Version: %s\" % plotly.version)\n",
    "\n",
    "\n",
    "import warnings\n",
    "warnings.filterwarnings('ignore')\n"
   ]
  },
  {
   "cell_type": "markdown",
   "metadata": {},
   "source": [
    "## Functions"
   ]
  },
  {
   "cell_type": "markdown",
   "metadata": {},
   "source": [
    "# Process data for ML"
   ]
  },
  {
   "cell_type": "code",
   "execution_count": 3,
   "metadata": {},
   "outputs": [
    {
     "name": "stdout",
     "output_type": "stream",
     "text": [
      "Number of rows in the dataset are : 19572\n"
     ]
    },
    {
     "data": {
      "text/html": [
       "<div>\n",
       "<style scoped>\n",
       "    .dataframe tbody tr th:only-of-type {\n",
       "        vertical-align: middle;\n",
       "    }\n",
       "\n",
       "    .dataframe tbody tr th {\n",
       "        vertical-align: top;\n",
       "    }\n",
       "\n",
       "    .dataframe thead th {\n",
       "        text-align: right;\n",
       "    }\n",
       "</style>\n",
       "<table border=\"1\" class=\"dataframe\">\n",
       "  <thead>\n",
       "    <tr style=\"text-align: right;\">\n",
       "      <th></th>\n",
       "      <th>EthnicGrpDescr</th>\n",
       "      <th>Gender</th>\n",
       "      <th>JobTitle</th>\n",
       "      <th>DeptName</th>\n",
       "      <th>JobEntryDate</th>\n",
       "      <th>FTE</th>\n",
       "      <th>Full/Part</th>\n",
       "      <th>STDHRS</th>\n",
       "      <th>FirstStartDate</th>\n",
       "      <th>LastStartDt</th>\n",
       "      <th>AnnualRate</th>\n",
       "      <th>PositionEntryDate</th>\n",
       "      <th>OriginalStartDate</th>\n",
       "    </tr>\n",
       "  </thead>\n",
       "  <tbody>\n",
       "    <tr>\n",
       "      <th>0</th>\n",
       "      <td>Asian</td>\n",
       "      <td>Male</td>\n",
       "      <td>Clinical Nurse</td>\n",
       "      <td>ATC - Bed/Chair Unit</td>\n",
       "      <td>2014-07-01</td>\n",
       "      <td>1.0</td>\n",
       "      <td>Full Time</td>\n",
       "      <td>40.0</td>\n",
       "      <td>2014-02-24</td>\n",
       "      <td>2014-02-24</td>\n",
       "      <td>77631.0</td>\n",
       "      <td>2014-07-01</td>\n",
       "      <td>2014-02-24</td>\n",
       "    </tr>\n",
       "    <tr>\n",
       "      <th>1</th>\n",
       "      <td>White</td>\n",
       "      <td>Female</td>\n",
       "      <td>Advanced Prac Registered Nurse</td>\n",
       "      <td>Breast Medical Oncology</td>\n",
       "      <td>2004-08-02</td>\n",
       "      <td>1.0</td>\n",
       "      <td>Full Time</td>\n",
       "      <td>40.0</td>\n",
       "      <td>2004-08-02</td>\n",
       "      <td>2004-08-02</td>\n",
       "      <td>130800.0</td>\n",
       "      <td>2010-11-01</td>\n",
       "      <td>2004-08-02</td>\n",
       "    </tr>\n",
       "    <tr>\n",
       "      <th>2</th>\n",
       "      <td>Asian</td>\n",
       "      <td>Female</td>\n",
       "      <td>Research Investigator</td>\n",
       "      <td>Genetics</td>\n",
       "      <td>2016-10-10</td>\n",
       "      <td>1.0</td>\n",
       "      <td>Full Time</td>\n",
       "      <td>40.0</td>\n",
       "      <td>2016-10-10</td>\n",
       "      <td>2016-10-10</td>\n",
       "      <td>53000.0</td>\n",
       "      <td>2016-10-10</td>\n",
       "      <td>2016-10-10</td>\n",
       "    </tr>\n",
       "    <tr>\n",
       "      <th>3</th>\n",
       "      <td>Black/African American</td>\n",
       "      <td>Female</td>\n",
       "      <td>Professor</td>\n",
       "      <td>Surgical Oncology</td>\n",
       "      <td>2011-04-01</td>\n",
       "      <td>1.0</td>\n",
       "      <td>Full Time</td>\n",
       "      <td>40.0</td>\n",
       "      <td>2005-09-01</td>\n",
       "      <td>2005-09-01</td>\n",
       "      <td>640000.0</td>\n",
       "      <td>2005-09-01</td>\n",
       "      <td>2005-09-01</td>\n",
       "    </tr>\n",
       "    <tr>\n",
       "      <th>4</th>\n",
       "      <td>Black/African American</td>\n",
       "      <td>Female</td>\n",
       "      <td>Financial Clearance Associate</td>\n",
       "      <td>Financial Clearance Center</td>\n",
       "      <td>2015-07-16</td>\n",
       "      <td>1.0</td>\n",
       "      <td>Full Time</td>\n",
       "      <td>40.0</td>\n",
       "      <td>2006-11-20</td>\n",
       "      <td>2006-11-20</td>\n",
       "      <td>43017.0</td>\n",
       "      <td>2014-02-16</td>\n",
       "      <td>2006-11-20</td>\n",
       "    </tr>\n",
       "  </tbody>\n",
       "</table>\n",
       "</div>"
      ],
      "text/plain": [
       "           EthnicGrpDescr  Gender                        JobTitle  \\\n",
       "0                   Asian    Male                  Clinical Nurse   \n",
       "1                   White  Female  Advanced Prac Registered Nurse   \n",
       "2                   Asian  Female           Research Investigator   \n",
       "3  Black/African American  Female                       Professor   \n",
       "4  Black/African American  Female   Financial Clearance Associate   \n",
       "\n",
       "                     DeptName JobEntryDate  FTE  Full/Part  STDHRS  \\\n",
       "0        ATC - Bed/Chair Unit   2014-07-01  1.0  Full Time    40.0   \n",
       "1     Breast Medical Oncology   2004-08-02  1.0  Full Time    40.0   \n",
       "2                    Genetics   2016-10-10  1.0  Full Time    40.0   \n",
       "3           Surgical Oncology   2011-04-01  1.0  Full Time    40.0   \n",
       "4  Financial Clearance Center   2015-07-16  1.0  Full Time    40.0   \n",
       "\n",
       "  FirstStartDate LastStartDt  AnnualRate PositionEntryDate OriginalStartDate  \n",
       "0     2014-02-24  2014-02-24     77631.0        2014-07-01        2014-02-24  \n",
       "1     2004-08-02  2004-08-02    130800.0        2010-11-01        2004-08-02  \n",
       "2     2016-10-10  2016-10-10     53000.0        2016-10-10        2016-10-10  \n",
       "3     2005-09-01  2005-09-01    640000.0        2005-09-01        2005-09-01  \n",
       "4     2006-11-20  2006-11-20     43017.0        2014-02-16        2006-11-20  "
      ]
     },
     "execution_count": 3,
     "metadata": {},
     "output_type": "execute_result"
    }
   ],
   "source": [
    "#df0 = pd.read_csv('ut_md_anderson.xlsx', sep=',', header=None)\n",
    "#df = pd.read_excel('data_last_updated2017/ut_md_anderson.xlsx', sep=',')\n",
    "df = pd.read_csv('salary.csv', sep=',')\n",
    "print(\"Number of rows in the dataset are : {}\".format(len(df)))\n",
    "df.columns = df.columns.str.replace(' ', '') #avoid the white space in column names for later use\n",
    "df.head()"
   ]
  },
  {
   "cell_type": "markdown",
   "metadata": {},
   "source": [
    "## Preprocessing"
   ]
  },
  {
   "cell_type": "code",
   "execution_count": 4,
   "metadata": {},
   "outputs": [],
   "source": [
    "#drop the rows with na values\n",
    "df= df.dropna(axis=0)\n",
    "#df.info()"
   ]
  },
  {
   "cell_type": "code",
   "execution_count": 5,
   "metadata": {},
   "outputs": [
    {
     "name": "stdout",
     "output_type": "stream",
     "text": [
      "Reference date 2017-09-20 00:00:00\n"
     ]
    }
   ],
   "source": [
    "#data was collected on this date\n",
    "refDate=datetime(year=2017, month=9, day=20)\n",
    "print(\"Reference date\", refDate)"
   ]
  },
  {
   "cell_type": "code",
   "execution_count": 6,
   "metadata": {},
   "outputs": [],
   "source": [
    "#add some columns with number of years in current pos etc\n",
    "#first convert the relevant columns via pandas date_time\n",
    "df['JobEntryDate']=pd.to_datetime(df['JobEntryDate'])\n",
    "df['FirstStartDate']=pd.to_datetime(df['FirstStartDate'])\n",
    "\n",
    "df['nYcurPos'] = (refDate - df['JobEntryDate']) / np.timedelta64(1, 'Y') #number of years in current position\n",
    "df['nYatInst'] = (refDate - df['FirstStartDate']) / np.timedelta64(1, 'Y') #number of years at institute\n",
    "df['hireInfo'] = np.where((df['nYatInst'] > df['nYcurPos']), 1.0, 0.0) # 1 for internal hire \n",
    "#df.head(5)"
   ]
  },
  {
   "cell_type": "code",
   "execution_count": 7,
   "metadata": {},
   "outputs": [
    {
     "name": "stdout",
     "output_type": "stream",
     "text": [
      "Total number of full time nurses: 703\n"
     ]
    }
   ],
   "source": [
    "nurseFT_df =  df[(df['JobTitle'] == 'Clinical Nurse') & (df['Full/Part'] =='Full Time')] # full time nurse\n",
    "print(\"Total number of full time nurses:\", nurseFT_df.shape[0])\n",
    "#simple_graph(nurseFT_df,'AnnualRate','histo',title='No. of clinical nurse (FT) vs Salary')"
   ]
  },
  {
   "cell_type": "code",
   "execution_count": 8,
   "metadata": {},
   "outputs": [
    {
     "data": {
      "text/html": [
       "<div>\n",
       "<style scoped>\n",
       "    .dataframe tbody tr th:only-of-type {\n",
       "        vertical-align: middle;\n",
       "    }\n",
       "\n",
       "    .dataframe tbody tr th {\n",
       "        vertical-align: top;\n",
       "    }\n",
       "\n",
       "    .dataframe thead th {\n",
       "        text-align: right;\n",
       "    }\n",
       "</style>\n",
       "<table border=\"1\" class=\"dataframe\">\n",
       "  <thead>\n",
       "    <tr style=\"text-align: right;\">\n",
       "      <th></th>\n",
       "      <th>EthnicGrpDescr</th>\n",
       "      <th>Gender</th>\n",
       "      <th>JobTitle</th>\n",
       "      <th>DeptName</th>\n",
       "      <th>JobEntryDate</th>\n",
       "      <th>FTE</th>\n",
       "      <th>Full/Part</th>\n",
       "      <th>STDHRS</th>\n",
       "      <th>FirstStartDate</th>\n",
       "      <th>LastStartDt</th>\n",
       "      <th>AnnualRate</th>\n",
       "      <th>PositionEntryDate</th>\n",
       "      <th>OriginalStartDate</th>\n",
       "      <th>nYcurPos</th>\n",
       "      <th>nYatInst</th>\n",
       "      <th>hireInfo</th>\n",
       "    </tr>\n",
       "  </thead>\n",
       "  <tbody>\n",
       "    <tr>\n",
       "      <th>0</th>\n",
       "      <td>Asian</td>\n",
       "      <td>Male</td>\n",
       "      <td>Clinical Nurse</td>\n",
       "      <td>ATC - Bed/Chair Unit</td>\n",
       "      <td>2014-07-01</td>\n",
       "      <td>1.0</td>\n",
       "      <td>Full Time</td>\n",
       "      <td>40.0</td>\n",
       "      <td>2014-02-24</td>\n",
       "      <td>2014-02-24</td>\n",
       "      <td>77631.0</td>\n",
       "      <td>2014-07-01</td>\n",
       "      <td>2014-02-24</td>\n",
       "      <td>3.222517</td>\n",
       "      <td>3.570231</td>\n",
       "      <td>1.0</td>\n",
       "    </tr>\n",
       "    <tr>\n",
       "      <th>13</th>\n",
       "      <td>Asian</td>\n",
       "      <td>Female</td>\n",
       "      <td>Clinical Nurse</td>\n",
       "      <td>Main OR Nursing</td>\n",
       "      <td>2011-01-20</td>\n",
       "      <td>1.0</td>\n",
       "      <td>Full Time</td>\n",
       "      <td>40.0</td>\n",
       "      <td>2006-03-13</td>\n",
       "      <td>2006-03-13</td>\n",
       "      <td>95000.0</td>\n",
       "      <td>2010-01-01</td>\n",
       "      <td>2006-03-13</td>\n",
       "      <td>6.666804</td>\n",
       "      <td>11.523851</td>\n",
       "      <td>1.0</td>\n",
       "    </tr>\n",
       "    <tr>\n",
       "      <th>74</th>\n",
       "      <td>Asian</td>\n",
       "      <td>Female</td>\n",
       "      <td>Clinical Nurse</td>\n",
       "      <td>Interventional Rad Clin Ops</td>\n",
       "      <td>2010-12-06</td>\n",
       "      <td>1.0</td>\n",
       "      <td>Full Time</td>\n",
       "      <td>40.0</td>\n",
       "      <td>2010-05-24</td>\n",
       "      <td>2010-05-24</td>\n",
       "      <td>77557.0</td>\n",
       "      <td>2014-07-01</td>\n",
       "      <td>2010-05-24</td>\n",
       "      <td>6.790009</td>\n",
       "      <td>7.326639</td>\n",
       "      <td>1.0</td>\n",
       "    </tr>\n",
       "    <tr>\n",
       "      <th>90</th>\n",
       "      <td>Asian</td>\n",
       "      <td>Female</td>\n",
       "      <td>Clinical Nurse</td>\n",
       "      <td>Main OR Nursing</td>\n",
       "      <td>2016-12-12</td>\n",
       "      <td>1.0</td>\n",
       "      <td>Full Time</td>\n",
       "      <td>40.0</td>\n",
       "      <td>2016-12-12</td>\n",
       "      <td>2016-12-12</td>\n",
       "      <td>78000.0</td>\n",
       "      <td>2016-12-12</td>\n",
       "      <td>2016-12-12</td>\n",
       "      <td>0.772090</td>\n",
       "      <td>0.772090</td>\n",
       "      <td>0.0</td>\n",
       "    </tr>\n",
       "    <tr>\n",
       "      <th>91</th>\n",
       "      <td>Asian</td>\n",
       "      <td>Female</td>\n",
       "      <td>Clinical Nurse</td>\n",
       "      <td>Nursing Resource Pool</td>\n",
       "      <td>2010-08-19</td>\n",
       "      <td>1.0</td>\n",
       "      <td>Full Time</td>\n",
       "      <td>40.0</td>\n",
       "      <td>2002-04-29</td>\n",
       "      <td>2002-04-29</td>\n",
       "      <td>94667.0</td>\n",
       "      <td>2003-03-16</td>\n",
       "      <td>2002-04-29</td>\n",
       "      <td>7.088441</td>\n",
       "      <td>15.395251</td>\n",
       "      <td>1.0</td>\n",
       "    </tr>\n",
       "  </tbody>\n",
       "</table>\n",
       "</div>"
      ],
      "text/plain": [
       "   EthnicGrpDescr  Gender        JobTitle                     DeptName  \\\n",
       "0           Asian    Male  Clinical Nurse         ATC - Bed/Chair Unit   \n",
       "13          Asian  Female  Clinical Nurse              Main OR Nursing   \n",
       "74          Asian  Female  Clinical Nurse  Interventional Rad Clin Ops   \n",
       "90          Asian  Female  Clinical Nurse              Main OR Nursing   \n",
       "91          Asian  Female  Clinical Nurse        Nursing Resource Pool   \n",
       "\n",
       "   JobEntryDate  FTE  Full/Part  STDHRS FirstStartDate LastStartDt  \\\n",
       "0    2014-07-01  1.0  Full Time    40.0     2014-02-24  2014-02-24   \n",
       "13   2011-01-20  1.0  Full Time    40.0     2006-03-13  2006-03-13   \n",
       "74   2010-12-06  1.0  Full Time    40.0     2010-05-24  2010-05-24   \n",
       "90   2016-12-12  1.0  Full Time    40.0     2016-12-12  2016-12-12   \n",
       "91   2010-08-19  1.0  Full Time    40.0     2002-04-29  2002-04-29   \n",
       "\n",
       "    AnnualRate PositionEntryDate OriginalStartDate  nYcurPos   nYatInst  \\\n",
       "0      77631.0        2014-07-01        2014-02-24  3.222517   3.570231   \n",
       "13     95000.0        2010-01-01        2006-03-13  6.666804  11.523851   \n",
       "74     77557.0        2014-07-01        2010-05-24  6.790009   7.326639   \n",
       "90     78000.0        2016-12-12        2016-12-12  0.772090   0.772090   \n",
       "91     94667.0        2003-03-16        2002-04-29  7.088441  15.395251   \n",
       "\n",
       "    hireInfo  \n",
       "0        1.0  \n",
       "13       1.0  \n",
       "74       1.0  \n",
       "90       0.0  \n",
       "91       1.0  "
      ]
     },
     "execution_count": 8,
     "metadata": {},
     "output_type": "execute_result"
    }
   ],
   "source": [
    "nurseFT_df.head()"
   ]
  },
  {
   "cell_type": "code",
   "execution_count": 9,
   "metadata": {},
   "outputs": [],
   "source": [
    "#let us create a DF with only relevant columns for ML studies\n",
    "nurseFTred_df = nurseFT_df[['Gender', 'DeptName', 'AnnualRate','nYcurPos']].copy()"
   ]
  },
  {
   "cell_type": "code",
   "execution_count": 10,
   "metadata": {},
   "outputs": [
    {
     "name": "stdout",
     "output_type": "stream",
     "text": [
      "(703, 4)\n"
     ]
    },
    {
     "data": {
      "text/html": [
       "<div>\n",
       "<style scoped>\n",
       "    .dataframe tbody tr th:only-of-type {\n",
       "        vertical-align: middle;\n",
       "    }\n",
       "\n",
       "    .dataframe tbody tr th {\n",
       "        vertical-align: top;\n",
       "    }\n",
       "\n",
       "    .dataframe thead th {\n",
       "        text-align: right;\n",
       "    }\n",
       "</style>\n",
       "<table border=\"1\" class=\"dataframe\">\n",
       "  <thead>\n",
       "    <tr style=\"text-align: right;\">\n",
       "      <th></th>\n",
       "      <th>Gender</th>\n",
       "      <th>DeptName</th>\n",
       "      <th>AnnualRate</th>\n",
       "      <th>nYcurPos</th>\n",
       "    </tr>\n",
       "  </thead>\n",
       "  <tbody>\n",
       "    <tr>\n",
       "      <th>0</th>\n",
       "      <td>Male</td>\n",
       "      <td>ATC - Bed/Chair Unit</td>\n",
       "      <td>77631.0</td>\n",
       "      <td>3.222517</td>\n",
       "    </tr>\n",
       "    <tr>\n",
       "      <th>13</th>\n",
       "      <td>Female</td>\n",
       "      <td>Main OR Nursing</td>\n",
       "      <td>95000.0</td>\n",
       "      <td>6.666804</td>\n",
       "    </tr>\n",
       "    <tr>\n",
       "      <th>74</th>\n",
       "      <td>Female</td>\n",
       "      <td>Interventional Rad Clin Ops</td>\n",
       "      <td>77557.0</td>\n",
       "      <td>6.790009</td>\n",
       "    </tr>\n",
       "    <tr>\n",
       "      <th>90</th>\n",
       "      <td>Female</td>\n",
       "      <td>Main OR Nursing</td>\n",
       "      <td>78000.0</td>\n",
       "      <td>0.772090</td>\n",
       "    </tr>\n",
       "    <tr>\n",
       "      <th>91</th>\n",
       "      <td>Female</td>\n",
       "      <td>Nursing Resource Pool</td>\n",
       "      <td>94667.0</td>\n",
       "      <td>7.088441</td>\n",
       "    </tr>\n",
       "  </tbody>\n",
       "</table>\n",
       "</div>"
      ],
      "text/plain": [
       "    Gender                     DeptName  AnnualRate  nYcurPos\n",
       "0     Male         ATC - Bed/Chair Unit     77631.0  3.222517\n",
       "13  Female              Main OR Nursing     95000.0  6.666804\n",
       "74  Female  Interventional Rad Clin Ops     77557.0  6.790009\n",
       "90  Female              Main OR Nursing     78000.0  0.772090\n",
       "91  Female        Nursing Resource Pool     94667.0  7.088441"
      ]
     },
     "execution_count": 10,
     "metadata": {},
     "output_type": "execute_result"
    }
   ],
   "source": [
    "print(nurseFTred_df.shape)\n",
    "nurseFTred_df.head()"
   ]
  },
  {
   "cell_type": "code",
   "execution_count": 11,
   "metadata": {},
   "outputs": [],
   "source": [
    "# Encode the categorical features as numbers for ease of ML using scikit LabelEncoder\n",
    "\n",
    "def number_encode_features(df):\n",
    "    result_df = df.copy()\n",
    "    encoders = {}\n",
    "    encoders_name_mapping={} # create additional dictionary for encoding  mapping\n",
    "    for column in result_df.columns:\n",
    "        if result_df.dtypes[column] == np.object:\n",
    "            encoders[column] = preprocessing.LabelEncoder()\n",
    "            result_df[column] = encoders[column].fit_transform(result_df[column])\n",
    "            encoders_name_mapping[column] = dict(zip(encoders[column].classes_, encoders[column].\n",
    "                                                     fit_transform(encoders[column].classes_)))\n",
    "            print(encoders_name_mapping[column]) #if we want to know the mapping\n",
    "    return result_df, encoders"
   ]
  },
  {
   "cell_type": "code",
   "execution_count": 12,
   "metadata": {},
   "outputs": [
    {
     "name": "stdout",
     "output_type": "stream",
     "text": [
      "{'Female': 0, 'Male': 1}\n",
      "{'ASC Short Stay Nursing Unit': 0, 'ATC - Bed/Chair Unit': 1, 'Acute Pain Medicine': 2, 'CABI - Standard of Care': 3, 'CTRC': 4, 'DI - Nursing': 5, 'Emergency Center': 6, 'Endoscopy Center': 7, 'Infusion Therapy': 8, 'Interventional Rad Clin Ops': 9, 'Main OR Nursing': 10, 'Nrsg Clinical Decision Unit': 11, 'Nrsg Post Anesthesia Care Unit': 12, 'Nursing 11P': 13, 'Nursing 12P': 14, 'Nursing 3P Non-OR Recovery': 15, 'Nursing 4P': 16, 'Nursing 6P': 17, 'Nursing 7P': 18, 'Nursing 8P': 19, 'Nursing 9P': 20, 'Nursing G10 East': 21, 'Nursing G10 West': 22, 'Nursing G11East': 23, 'Nursing G12': 24, 'Nursing G12NW Palliative': 25, 'Nursing G15': 26, 'Nursing G16': 27, 'Nursing G17': 28, 'Nursing G18': 29, 'Nursing G22': 30, 'Nursing G9': 31, 'Nursing G9NW Pedi Intensive': 32, 'Nursing ICU': 33, 'Nursing Resource Pool': 34, 'Nursing WOC': 35, 'West Houston Imaging Center': 36}\n"
     ]
    },
    {
     "data": {
      "text/html": [
       "<div>\n",
       "<style scoped>\n",
       "    .dataframe tbody tr th:only-of-type {\n",
       "        vertical-align: middle;\n",
       "    }\n",
       "\n",
       "    .dataframe tbody tr th {\n",
       "        vertical-align: top;\n",
       "    }\n",
       "\n",
       "    .dataframe thead th {\n",
       "        text-align: right;\n",
       "    }\n",
       "</style>\n",
       "<table border=\"1\" class=\"dataframe\">\n",
       "  <thead>\n",
       "    <tr style=\"text-align: right;\">\n",
       "      <th></th>\n",
       "      <th>Gender</th>\n",
       "      <th>DeptName</th>\n",
       "      <th>AnnualRate</th>\n",
       "      <th>nYcurPos</th>\n",
       "    </tr>\n",
       "  </thead>\n",
       "  <tbody>\n",
       "    <tr>\n",
       "      <th>0</th>\n",
       "      <td>1</td>\n",
       "      <td>1</td>\n",
       "      <td>77631.0</td>\n",
       "      <td>3.222517</td>\n",
       "    </tr>\n",
       "    <tr>\n",
       "      <th>13</th>\n",
       "      <td>0</td>\n",
       "      <td>10</td>\n",
       "      <td>95000.0</td>\n",
       "      <td>6.666804</td>\n",
       "    </tr>\n",
       "    <tr>\n",
       "      <th>74</th>\n",
       "      <td>0</td>\n",
       "      <td>9</td>\n",
       "      <td>77557.0</td>\n",
       "      <td>6.790009</td>\n",
       "    </tr>\n",
       "    <tr>\n",
       "      <th>90</th>\n",
       "      <td>0</td>\n",
       "      <td>10</td>\n",
       "      <td>78000.0</td>\n",
       "      <td>0.772090</td>\n",
       "    </tr>\n",
       "    <tr>\n",
       "      <th>91</th>\n",
       "      <td>0</td>\n",
       "      <td>34</td>\n",
       "      <td>94667.0</td>\n",
       "      <td>7.088441</td>\n",
       "    </tr>\n",
       "  </tbody>\n",
       "</table>\n",
       "</div>"
      ],
      "text/plain": [
       "    Gender  DeptName  AnnualRate  nYcurPos\n",
       "0        1         1     77631.0  3.222517\n",
       "13       0        10     95000.0  6.666804\n",
       "74       0         9     77557.0  6.790009\n",
       "90       0        10     78000.0  0.772090\n",
       "91       0        34     94667.0  7.088441"
      ]
     },
     "execution_count": 12,
     "metadata": {},
     "output_type": "execute_result"
    }
   ],
   "source": [
    "#The easiest way would be to assign a different integer to each subcategory, example Male=1, Female-0\n",
    "#earlier we saw 37 department names, assign a unique number to each dept\n",
    "\n",
    "encoded_df, encodedLabels= number_encode_features(nurseFTred_df)\n",
    "encoded_df.head(5)"
   ]
  },
  {
   "cell_type": "code",
   "execution_count": 13,
   "metadata": {},
   "outputs": [],
   "source": [
    "#Calculate the correlation and plot it\n",
    "#sns.heatmap(encoded_df.corr(), square=True,annot=True,cmap='coolwarm')\n",
    "#plt.show()"
   ]
  },
  {
   "cell_type": "code",
   "execution_count": 14,
   "metadata": {},
   "outputs": [
    {
     "data": {
      "image/png": "[encoded data removed]",
      "text/plain": [
       "<Figure size 576x360 with 2 Axes>"
      ]
     },
     "metadata": {
      "needs_background": "light"
     },
     "output_type": "display_data"
    }
   ],
   "source": [
    "# Set up the matplotlib figure\n",
    "f, ax = plt.subplots(figsize=(8, 5))\n",
    "\n",
    "\n",
    "# Compute the correlation matrix\n",
    "corr = encoded_df.corr()\n",
    "\n",
    "# Generate a mask for the upper triangle\n",
    "mask = np.zeros_like(corr, dtype=np.bool)\n",
    "mask[np.triu_indices_from(mask)] = True\n",
    "\n",
    "#sns.heatmap(corr,vmax=.5, square=True,annot=True)\n",
    "sns.heatmap(corr, mask=mask, vmax=.3, cmap='coolwarm',\n",
    "            center=0,square=True, linewidths=.5, cbar_kws={\"shrink\": .5},annot=True)\n",
    "plt.show()"
   ]
  },
  {
   "cell_type": "markdown",
   "metadata": {},
   "source": [
    "Number of years at current position seems to have the biggest corelation "
   ]
  },
  {
   "cell_type": "code",
   "execution_count": 15,
   "metadata": {},
   "outputs": [
    {
     "data": {
      "text/html": [
       "<div>\n",
       "<style scoped>\n",
       "    .dataframe tbody tr th:only-of-type {\n",
       "        vertical-align: middle;\n",
       "    }\n",
       "\n",
       "    .dataframe tbody tr th {\n",
       "        vertical-align: top;\n",
       "    }\n",
       "\n",
       "    .dataframe thead th {\n",
       "        text-align: right;\n",
       "    }\n",
       "</style>\n",
       "<table border=\"1\" class=\"dataframe\">\n",
       "  <thead>\n",
       "    <tr style=\"text-align: right;\">\n",
       "      <th></th>\n",
       "      <th>Gender</th>\n",
       "      <th>DeptName</th>\n",
       "      <th>AnnualRate</th>\n",
       "      <th>nYcurPos</th>\n",
       "    </tr>\n",
       "  </thead>\n",
       "  <tbody>\n",
       "    <tr>\n",
       "      <th>0</th>\n",
       "      <td>1</td>\n",
       "      <td>1</td>\n",
       "      <td>77631.0</td>\n",
       "      <td>3.222517</td>\n",
       "    </tr>\n",
       "    <tr>\n",
       "      <th>1</th>\n",
       "      <td>0</td>\n",
       "      <td>10</td>\n",
       "      <td>95000.0</td>\n",
       "      <td>6.666804</td>\n",
       "    </tr>\n",
       "    <tr>\n",
       "      <th>2</th>\n",
       "      <td>0</td>\n",
       "      <td>9</td>\n",
       "      <td>77557.0</td>\n",
       "      <td>6.790009</td>\n",
       "    </tr>\n",
       "  </tbody>\n",
       "</table>\n",
       "</div>"
      ],
      "text/plain": [
       "   Gender  DeptName  AnnualRate  nYcurPos\n",
       "0       1         1     77631.0  3.222517\n",
       "1       0        10     95000.0  6.666804\n",
       "2       0         9     77557.0  6.790009"
      ]
     },
     "execution_count": 15,
     "metadata": {},
     "output_type": "execute_result"
    }
   ],
   "source": [
    "# resetindex\n",
    "encoded_df.reset_index(drop=True, inplace=True)\n",
    "encoded_df.head(3)"
   ]
  },
  {
   "cell_type": "markdown",
   "metadata": {},
   "source": [
    "First lets split up to fuatures and target columns. Then split \n",
    "the data into our training data (X_train), our testing data frame (X_test) and our target variables that we want to predict for both training and testing (y_train and y_test respectively)."
   ]
  },
  {
   "cell_type": "code",
   "execution_count": 16,
   "metadata": {},
   "outputs": [],
   "source": [
    "#X= encoded_df.iloc[:,[0,1,3]].values \n",
    "#y= encoded_df.iloc[:,[2]].values #Annual rate  column is target\n",
    "## Train_test split\n",
    "#random_state = 42\n",
    "#X_train, X_test, y_train, y_test = train_test_split(X, y, test_size = 0.20, random_state = random_state)"
   ]
  },
  {
   "cell_type": "code",
   "execution_count": 17,
   "metadata": {},
   "outputs": [
    {
     "name": "stdout",
     "output_type": "stream",
     "text": [
      "Shape train: (562, 3), and test: (141, 3)\n"
     ]
    }
   ],
   "source": [
    "X=encoded_df.drop([\"AnnualRate\"], axis=1)\n",
    "y=encoded_df[\"AnnualRate\"]\n",
    "random_state = 42\n",
    "X_train, X_test, y_train, y_test = train_test_split(X, y, test_size = 0.2, random_state = random_state)\n",
    "print(\"Shape train: %s, and test: %s\" % (X_train.shape, X_test.shape))"
   ]
  },
  {
   "cell_type": "markdown",
   "metadata": {},
   "source": [
    "# check out  some default estimators"
   ]
  },
  {
   "cell_type": "code",
   "execution_count": 18,
   "metadata": {},
   "outputs": [],
   "source": [
    "table = PrettyTable()\n",
    "table.field_names = [\"Model\", \"Datasetname\", \"MSE\", \"MAE\",\"RMSE\",\"R^2 score\", \"accuracy\"]\n",
    "\n",
    "def evaluate(xx,yy,dataset,model):\n",
    "    y_pred = model.predict(xx)\n",
    "    errors = abs(yy - y_pred)\n",
    "    mse = mean_squared_error(yy,y_pred)\n",
    "    mae = mean_absolute_error(yy,y_pred)\n",
    "    rmse=np.sqrt(mse)\n",
    "    r2score = model.score(xx, yy)\n",
    "    mape = np.mean(100 * (errors/yy))#mean absolute percentage error (MAPE)\n",
    "    accuracy = 100. - mape\n",
    "    table.add_row([type(model).__name__, dataset, format(mse, '.2f'), format(mae, '.2f'),format(rmse, '.2f'), format(r2score, '.2f'),format(accuracy, '.2f')])\n",
    "    "
   ]
  },
  {
   "cell_type": "code",
   "execution_count": 19,
   "metadata": {},
   "outputs": [
    {
     "name": "stdout",
     "output_type": "stream",
     "text": [
      "+-----------------------+-------------+--------------+----------+----------+-----------+----------+\n",
      "|         Model         | Datasetname |     MSE      |   MAE    |   RMSE   | R^2 score | accuracy |\n",
      "+-----------------------+-------------+--------------+----------+----------+-----------+----------+\n",
      "|      SGDRegressor     |   training  | 158041918.39 | 10333.98 | 12571.47 |   -0.08   |  87.86   |\n",
      "|          SVR          |   training  | 122806304.67 | 8532.08  | 11081.80 |    0.16   |  88.24   |\n",
      "|          SVR          |   training  | 162472198.44 | 9863.68  | 12746.46 |   -0.11   |  86.34   |\n",
      "|    BaggingRegressor   |   training  | 17670998.23  | 2760.75  | 4203.69  |    0.88   |  96.49   |\n",
      "| RandomForestRegressor |   training  | 15292209.59  | 2720.10  | 3910.53  |    0.90   |  96.53   |\n",
      "+-----------------------+-------------+--------------+----------+----------+-----------+----------+\n",
      "\n",
      "\n",
      "==== Let us evaluate the model on test set===\n",
      "+-----------------------+-------------+--------------+---------+----------+-----------+----------+\n",
      "|         Model         | Datasetname |     MSE      |   MAE   |   RMSE   | R^2 score | accuracy |\n",
      "+-----------------------+-------------+--------------+---------+----------+-----------+----------+\n",
      "|      SGDRegressor     |  validation | 130389578.82 | 9251.61 | 11418.83 |    0.05   |  89.18   |\n",
      "|          SVR          |  validation | 111797149.59 | 8255.03 | 10573.42 |    0.18   |  88.73   |\n",
      "|          SVR          |  validation | 152369133.80 | 9720.87 | 12343.79 |   -0.11   |  86.71   |\n",
      "|    BaggingRegressor   |  validation | 71335012.53  | 6318.65 | 8446.01  |    0.48   |  92.00   |\n",
      "| RandomForestRegressor |  validation | 69484485.06  | 6207.77 | 8335.74  |    0.49   |  92.16   |\n",
      "+-----------------------+-------------+--------------+---------+----------+-----------+----------+\n",
      "CPU times: user 185 ms, sys: 3.99 ms, total: 189 ms\n",
      "Wall time: 187 ms\n"
     ]
    }
   ],
   "source": [
    "%%time\n",
    "# Spot Check some Algorithms\n",
    "\n",
    "models = [\n",
    "    SGDRegressor(max_iter=1000, tol=1e-3),\n",
    "    SVR(gamma='auto', kernel='linear'),\n",
    "    SVR(gamma='auto', kernel='rbf'),\n",
    "    BaggingRegressor(),\n",
    "    RandomForestRegressor(random_state=42, n_estimators=50)\n",
    "]\n",
    "\n",
    "table.clear_rows() \n",
    "for model in models:\n",
    "    model.fit(X_train, y_train) \n",
    "    evaluate(X_train, y_train,'training',model) #on the training set\n",
    "print(table)\n",
    "print(\"\\n\")\n",
    "print(\"==== Let us evaluate the model on test set===\")\n",
    "table.clear_rows() \n",
    "for model in models:\n",
    "    evaluate(X_test, y_test,'validation',model) #on the test/validation set  \n",
    "print(table)\n"
   ]
  },
  {
   "cell_type": "markdown",
   "metadata": {},
   "source": [
    "# Random Forest regressor"
   ]
  },
  {
   "cell_type": "code",
   "execution_count": 20,
   "metadata": {},
   "outputs": [
    {
     "name": "stdout",
     "output_type": "stream",
     "text": [
      "Fitting 3 folds for each of 48 candidates, totalling 144 fits\n"
     ]
    },
    {
     "name": "stderr",
     "output_type": "stream",
     "text": [
      "[Parallel(n_jobs=-1)]: Using backend LokyBackend with 8 concurrent workers.\n",
      "[Parallel(n_jobs=-1)]: Done  25 tasks      | elapsed:    2.0s\n",
      "[Parallel(n_jobs=-1)]: Done 144 out of 144 | elapsed:    4.1s finished\n"
     ]
    },
    {
     "data": {
      "text/plain": [
       "GridSearchCV(cv=3, error_score='raise-deprecating',\n",
       "             estimator=RandomForestRegressor(bootstrap=True, criterion='mse',\n",
       "                                             max_depth=None,\n",
       "                                             max_features='auto',\n",
       "                                             max_leaf_nodes=None,\n",
       "                                             min_impurity_decrease=0.0,\n",
       "                                             min_impurity_split=None,\n",
       "                                             min_samples_leaf=1,\n",
       "                                             min_samples_split=2,\n",
       "                                             min_weight_fraction_leaf=0.0,\n",
       "                                             n_estimators='warn', n_jobs=None,\n",
       "                                             oob_score=False, random_state=42,\n",
       "                                             verbose=0, warm_start=False),\n",
       "             iid='warn', n_jobs=-1,\n",
       "             param_grid={'bootstrap': [True], 'max_depth': [4, 6, 8],\n",
       "                         'min_samples_split': [4, 6, 7, 8],\n",
       "                         'n_estimators': [5, 60, 70, 100]},\n",
       "             pre_dispatch='2*n_jobs', refit=True, return_train_score=False,\n",
       "             scoring=None, verbose=2)"
      ]
     },
     "execution_count": 20,
     "metadata": {},
     "output_type": "execute_result"
    }
   ],
   "source": [
    "# Create the parameter grid based on the results of random search \n",
    "rf_hyper_params = {\n",
    "    'bootstrap': [True],\n",
    "    'max_depth': [4,6,8],\n",
    "    'min_samples_split': [4,6,7,8],\n",
    "    'n_estimators': [5,60,70,100],\n",
    "   \n",
    "}\n",
    "random_state = 42\n",
    "rfModel_hp = RandomForestRegressor(random_state=random_state)\n",
    "# Instantiate the grid search model\n",
    "rfModel_hp_GridSearch = GridSearchCV(rfModel_hp,param_grid=rf_hyper_params,cv = 3, n_jobs = -1, verbose = 2)\n",
    "rfModel_hp_GridSearch.fit(X_train, y_train)\n"
   ]
  },
  {
   "cell_type": "code",
   "execution_count": 21,
   "metadata": {},
   "outputs": [
    {
     "name": "stdout",
     "output_type": "stream",
     "text": [
      "0.490263 +- 0.072973 with: {'bootstrap': True, 'max_depth': 4, 'min_samples_split': 4, 'n_estimators': 5}\n",
      "0.520628 +- 0.061604 with: {'bootstrap': True, 'max_depth': 4, 'min_samples_split': 4, 'n_estimators': 60}\n",
      "0.519044 +- 0.059564 with: {'bootstrap': True, 'max_depth': 4, 'min_samples_split': 4, 'n_estimators': 70}\n",
      "0.518213 +- 0.058387 with: {'bootstrap': True, 'max_depth': 4, 'min_samples_split': 4, 'n_estimators': 100}\n",
      "0.490277 +- 0.072771 with: {'bootstrap': True, 'max_depth': 4, 'min_samples_split': 6, 'n_estimators': 5}\n",
      "0.520562 +- 0.062558 with: {'bootstrap': True, 'max_depth': 4, 'min_samples_split': 6, 'n_estimators': 60}\n",
      "0.518976 +- 0.060597 with: {'bootstrap': True, 'max_depth': 4, 'min_samples_split': 6, 'n_estimators': 70}\n",
      "0.517957 +- 0.059222 with: {'bootstrap': True, 'max_depth': 4, 'min_samples_split': 6, 'n_estimators': 100}\n",
      "0.489275 +- 0.071712 with: {'bootstrap': True, 'max_depth': 4, 'min_samples_split': 7, 'n_estimators': 5}\n",
      "0.520401 +- 0.062699 with: {'bootstrap': True, 'max_depth': 4, 'min_samples_split': 7, 'n_estimators': 60}\n",
      "0.518852 +- 0.060774 with: {'bootstrap': True, 'max_depth': 4, 'min_samples_split': 7, 'n_estimators': 70}\n",
      "0.518012 +- 0.059338 with: {'bootstrap': True, 'max_depth': 4, 'min_samples_split': 7, 'n_estimators': 100}\n",
      "0.488999 +- 0.071724 with: {'bootstrap': True, 'max_depth': 4, 'min_samples_split': 8, 'n_estimators': 5}\n",
      "0.520494 +- 0.062501 with: {'bootstrap': True, 'max_depth': 4, 'min_samples_split': 8, 'n_estimators': 60}\n",
      "0.518782 +- 0.060634 with: {'bootstrap': True, 'max_depth': 4, 'min_samples_split': 8, 'n_estimators': 70}\n",
      "0.517996 +- 0.059280 with: {'bootstrap': True, 'max_depth': 4, 'min_samples_split': 8, 'n_estimators': 100}\n",
      "0.507783 +- 0.083286 with: {'bootstrap': True, 'max_depth': 6, 'min_samples_split': 4, 'n_estimators': 5}\n",
      "0.524542 +- 0.069605 with: {'bootstrap': True, 'max_depth': 6, 'min_samples_split': 4, 'n_estimators': 60}\n",
      "0.523924 +- 0.063517 with: {'bootstrap': True, 'max_depth': 6, 'min_samples_split': 4, 'n_estimators': 70}\n",
      "0.523470 +- 0.064011 with: {'bootstrap': True, 'max_depth': 6, 'min_samples_split': 4, 'n_estimators': 100}\n",
      "0.504148 +- 0.077309 with: {'bootstrap': True, 'max_depth': 6, 'min_samples_split': 6, 'n_estimators': 5}\n",
      "0.525133 +- 0.070316 with: {'bootstrap': True, 'max_depth': 6, 'min_samples_split': 6, 'n_estimators': 60}\n",
      "0.524011 +- 0.064949 with: {'bootstrap': True, 'max_depth': 6, 'min_samples_split': 6, 'n_estimators': 70}\n",
      "0.524012 +- 0.065562 with: {'bootstrap': True, 'max_depth': 6, 'min_samples_split': 6, 'n_estimators': 100}\n",
      "0.505195 +- 0.079144 with: {'bootstrap': True, 'max_depth': 6, 'min_samples_split': 7, 'n_estimators': 5}\n",
      "0.524155 +- 0.070859 with: {'bootstrap': True, 'max_depth': 6, 'min_samples_split': 7, 'n_estimators': 60}\n",
      "0.523093 +- 0.065717 with: {'bootstrap': True, 'max_depth': 6, 'min_samples_split': 7, 'n_estimators': 70}\n",
      "0.523998 +- 0.065766 with: {'bootstrap': True, 'max_depth': 6, 'min_samples_split': 7, 'n_estimators': 100}\n",
      "0.501828 +- 0.080756 with: {'bootstrap': True, 'max_depth': 6, 'min_samples_split': 8, 'n_estimators': 5}\n",
      "0.524617 +- 0.070995 with: {'bootstrap': True, 'max_depth': 6, 'min_samples_split': 8, 'n_estimators': 60}\n",
      "0.523502 +- 0.065501 with: {'bootstrap': True, 'max_depth': 6, 'min_samples_split': 8, 'n_estimators': 70}\n",
      "0.524293 +- 0.065021 with: {'bootstrap': True, 'max_depth': 6, 'min_samples_split': 8, 'n_estimators': 100}\n",
      "0.483201 +- 0.074202 with: {'bootstrap': True, 'max_depth': 8, 'min_samples_split': 4, 'n_estimators': 5}\n",
      "0.517974 +- 0.073118 with: {'bootstrap': True, 'max_depth': 8, 'min_samples_split': 4, 'n_estimators': 60}\n",
      "0.517865 +- 0.067780 with: {'bootstrap': True, 'max_depth': 8, 'min_samples_split': 4, 'n_estimators': 70}\n",
      "0.516290 +- 0.067224 with: {'bootstrap': True, 'max_depth': 8, 'min_samples_split': 4, 'n_estimators': 100}\n",
      "0.480250 +- 0.070913 with: {'bootstrap': True, 'max_depth': 8, 'min_samples_split': 6, 'n_estimators': 5}\n",
      "0.520298 +- 0.072680 with: {'bootstrap': True, 'max_depth': 8, 'min_samples_split': 6, 'n_estimators': 60}\n",
      "0.519198 +- 0.068667 with: {'bootstrap': True, 'max_depth': 8, 'min_samples_split': 6, 'n_estimators': 70}\n",
      "0.518627 +- 0.068575 with: {'bootstrap': True, 'max_depth': 8, 'min_samples_split': 6, 'n_estimators': 100}\n",
      "0.487258 +- 0.071534 with: {'bootstrap': True, 'max_depth': 8, 'min_samples_split': 7, 'n_estimators': 5}\n",
      "0.518646 +- 0.075023 with: {'bootstrap': True, 'max_depth': 8, 'min_samples_split': 7, 'n_estimators': 60}\n",
      "0.518341 +- 0.070789 with: {'bootstrap': True, 'max_depth': 8, 'min_samples_split': 7, 'n_estimators': 70}\n",
      "0.518287 +- 0.070198 with: {'bootstrap': True, 'max_depth': 8, 'min_samples_split': 7, 'n_estimators': 100}\n",
      "0.488745 +- 0.067717 with: {'bootstrap': True, 'max_depth': 8, 'min_samples_split': 8, 'n_estimators': 5}\n",
      "0.520046 +- 0.076117 with: {'bootstrap': True, 'max_depth': 8, 'min_samples_split': 8, 'n_estimators': 60}\n",
      "0.519531 +- 0.071081 with: {'bootstrap': True, 'max_depth': 8, 'min_samples_split': 8, 'n_estimators': 70}\n",
      "0.519376 +- 0.070560 with: {'bootstrap': True, 'max_depth': 8, 'min_samples_split': 8, 'n_estimators': 100}\n",
      "\n",
      "\n",
      "\t best parameters: {'bootstrap': True, 'max_depth': 6, 'min_samples_split': 6, 'n_estimators': 60}\n",
      "\t best score: 0.5251330397063544\n",
      "\n",
      "\n",
      "{'bootstrap': True, 'max_depth': 6, 'min_samples_split': 6, 'n_estimators': 60}\n"
     ]
    }
   ],
   "source": [
    "#best parameters\n",
    "means = rfModel_hp_GridSearch.cv_results_['mean_test_score']\n",
    "stds = rfModel_hp_GridSearch.cv_results_['std_test_score']\n",
    "params =rfModel_hp_GridSearch.cv_results_['params']\n",
    "for mean, stdev, param in zip(means, stds, params):\n",
    "        print(\"%f +- %f with: %r\" % (mean, stdev, param))\n",
    "\n",
    "print(\"\\n\")        \n",
    "print(\"\\t best parameters:\", rfModel_hp_GridSearch.best_params_) \n",
    "print(\"\\t best score:\", rfModel_hp_GridSearch.best_score_) \n",
    "print(\"\\n\") \n",
    "rf_bestparams = {**rfModel_hp_GridSearch.best_params_}\n",
    "print(rf_bestparams)"
   ]
  },
  {
   "cell_type": "code",
   "execution_count": 22,
   "metadata": {},
   "outputs": [
    {
     "name": "stdout",
     "output_type": "stream",
     "text": [
      "Fitting  RF model...\n"
     ]
    }
   ],
   "source": [
    "#make the regressor with our tuned parameters\n",
    "rfModel_GS_final = RandomForestRegressor(**rf_bestparams)\n",
    "\n",
    "#fit\n",
    "print(\"Fitting  RF model...\")\n",
    "rfModel_GS_final.fit(X_train, y_train)\n",
    "\n",
    "#predict on Unseen data \n",
    "predict_rf_GS_final = rfModel_GS_final.predict(X_test)\n",
    "#Metric: mean_squared_error \n",
    "#rmse = np.sqrt(mean_squared_error(y_test, predict_rf_GS_final))\n",
    "#print(\"RMSE: %f\" % (rmse))\n",
    "#calculate_accuracy(y_test,predict_rf_GS_final)\n"
   ]
  },
  {
   "cell_type": "code",
   "execution_count": 23,
   "metadata": {},
   "outputs": [
    {
     "name": "stdout",
     "output_type": "stream",
     "text": [
      "+-----------------------+-------------+-------------+---------+---------+-----------+----------+\n",
      "|         Model         | Datasetname |     MSE     |   MAE   |   RMSE  | R^2 score | accuracy |\n",
      "+-----------------------+-------------+-------------+---------+---------+-----------+----------+\n",
      "| RandomForestRegressor |   training  | 42281722.97 | 4911.68 | 6502.44 |    0.71   |  93.66   |\n",
      "+-----------------------+-------------+-------------+---------+---------+-----------+----------+\n"
     ]
    }
   ],
   "source": [
    "table.clear_rows() \n",
    "evaluate(X_train, y_train,'training',rfModel_GS_final) #on the test/validation set  \n",
    "print(table)"
   ]
  },
  {
   "cell_type": "code",
   "execution_count": 24,
   "metadata": {},
   "outputs": [
    {
     "name": "stdout",
     "output_type": "stream",
     "text": [
      "+-----------------------+-------------+-------------+---------+---------+-----------+----------+\n",
      "|         Model         | Datasetname |     MSE     |   MAE   |   RMSE  | R^2 score | accuracy |\n",
      "+-----------------------+-------------+-------------+---------+---------+-----------+----------+\n",
      "| RandomForestRegressor |  validation | 68536808.57 | 6281.32 | 8278.70 |    0.50   |  91.91   |\n",
      "+-----------------------+-------------+-------------+---------+---------+-----------+----------+\n"
     ]
    }
   ],
   "source": [
    "table.clear_rows() \n",
    "evaluate(X_test, y_test,'validation',rfModel_GS_final) #on the test/validation set  \n",
    "print(table)"
   ]
  },
  {
   "cell_type": "markdown",
   "metadata": {},
   "source": [
    "### Feature importance"
   ]
  },
  {
   "cell_type": "code",
   "execution_count": 25,
   "metadata": {},
   "outputs": [
    {
     "data": {
      "text/plain": [
       "['Gender', 'DeptName', 'nYcurPos']"
      ]
     },
     "execution_count": 25,
     "metadata": {},
     "output_type": "execute_result"
    }
   ],
   "source": [
    "features=list(X_test.columns.values)\n",
    "features"
   ]
  },
  {
   "cell_type": "code",
   "execution_count": 26,
   "metadata": {},
   "outputs": [],
   "source": [
    "importances = rfModel_hp_GridSearch.best_estimator_.feature_importances_\n",
    "std = np.std([tree.feature_importances_ for tree in rfModel_hp_GridSearch.best_estimator_.estimators_], axis=0)\n",
    "indices = np.argsort(importances)[::-1]"
   ]
  },
  {
   "cell_type": "code",
   "execution_count": 27,
   "metadata": {},
   "outputs": [
    {
     "name": "stdout",
     "output_type": "stream",
     "text": [
      "Feature ranking:\n",
      "3\n",
      "1. feature nYcurPos (0.780405)\n",
      "2. feature DeptName (0.202380)\n",
      "3. feature Gender (0.017215)\n"
     ]
    }
   ],
   "source": [
    "## Print the feature ranking\n",
    "print(\"Feature ranking:\")\n",
    "print(X_test.shape[1])\n",
    "for f in range(X_test.shape[1]):\n",
    "    print(\"%d. feature %s (%f)\" % (f + 1, features[indices[f]], importances[indices[f]]))"
   ]
  },
  {
   "cell_type": "code",
   "execution_count": 28,
   "metadata": {},
   "outputs": [
    {
     "data": {
      "image/png": "[encoded data removed]",
      "text/plain": [
       "<Figure size 432x288 with 1 Axes>"
      ]
     },
     "metadata": {
      "needs_background": "light"
     },
     "output_type": "display_data"
    }
   ],
   "source": [
    "# Plot the feature importances of the random forest\n",
    "#plt.figure(figsize=(14,5))\n",
    "plt.title(\"Feature importances\")\n",
    "plt.bar(range(X_test.shape[1]), importances[indices], yerr=std[indices], align=\"center\")\n",
    "plt.xticks(range(X_test.shape[1]), [features[i] for i in indices],rotation=45)\n",
    "plt.xlim([-1, X_test.shape[1]])\n",
    "plt.show()"
   ]
  },
  {
   "cell_type": "markdown",
   "metadata": {},
   "source": [
    "# Make predictions with unseen test data"
   ]
  },
  {
   "cell_type": "code",
   "execution_count": 29,
   "metadata": {},
   "outputs": [],
   "source": [
    "#create a new  fake test dataframe to check our final model\n",
    "#basically a male and female working in dept 21 and dept 10 with varying number of years of experinece\n",
    "\n",
    "raw_X_test = {'Gender': ['0', '1','0', '1','0', '1','0', '1'], \n",
    "        'DeptName': ['21','21','21','21', '10', '10', '10', '10'], \n",
    "        'nYcurPos': ['0.', '0.','10.', '10.','0.', '0.','10.', '10.' ], }\n",
    "      \n",
    "newToPredict_df = pd.DataFrame(raw_X_test, columns = ['Gender', 'DeptName', 'nYcurPos'])\n",
    "#newToPredict_df \n",
    "newToPredict_xtest=newToPredict_df.as_matrix()\n",
    "#newToPredict_xtest"
   ]
  },
  {
   "cell_type": "code",
   "execution_count": 30,
   "metadata": {},
   "outputs": [
    {
     "data": {
      "text/html": [
       "<div>\n",
       "<style scoped>\n",
       "    .dataframe tbody tr th:only-of-type {\n",
       "        vertical-align: middle;\n",
       "    }\n",
       "\n",
       "    .dataframe tbody tr th {\n",
       "        vertical-align: top;\n",
       "    }\n",
       "\n",
       "    .dataframe thead th {\n",
       "        text-align: right;\n",
       "    }\n",
       "</style>\n",
       "<table border=\"1\" class=\"dataframe\">\n",
       "  <thead>\n",
       "    <tr style=\"text-align: right;\">\n",
       "      <th></th>\n",
       "      <th>Gender</th>\n",
       "      <th>DeptName</th>\n",
       "      <th>nYcurPos</th>\n",
       "      <th>predictedAnnualRate</th>\n",
       "    </tr>\n",
       "  </thead>\n",
       "  <tbody>\n",
       "    <tr>\n",
       "      <th>0</th>\n",
       "      <td>0</td>\n",
       "      <td>21</td>\n",
       "      <td>0.</td>\n",
       "      <td>72125.744363</td>\n",
       "    </tr>\n",
       "    <tr>\n",
       "      <th>1</th>\n",
       "      <td>1</td>\n",
       "      <td>21</td>\n",
       "      <td>0.</td>\n",
       "      <td>75102.800299</td>\n",
       "    </tr>\n",
       "    <tr>\n",
       "      <th>2</th>\n",
       "      <td>0</td>\n",
       "      <td>21</td>\n",
       "      <td>10.</td>\n",
       "      <td>93934.779282</td>\n",
       "    </tr>\n",
       "    <tr>\n",
       "      <th>3</th>\n",
       "      <td>1</td>\n",
       "      <td>21</td>\n",
       "      <td>10.</td>\n",
       "      <td>93980.843869</td>\n",
       "    </tr>\n",
       "    <tr>\n",
       "      <th>4</th>\n",
       "      <td>0</td>\n",
       "      <td>10</td>\n",
       "      <td>0.</td>\n",
       "      <td>70392.355714</td>\n",
       "    </tr>\n",
       "    <tr>\n",
       "      <th>5</th>\n",
       "      <td>1</td>\n",
       "      <td>10</td>\n",
       "      <td>0.</td>\n",
       "      <td>69158.084205</td>\n",
       "    </tr>\n",
       "    <tr>\n",
       "      <th>6</th>\n",
       "      <td>0</td>\n",
       "      <td>10</td>\n",
       "      <td>10.</td>\n",
       "      <td>93884.764626</td>\n",
       "    </tr>\n",
       "    <tr>\n",
       "      <th>7</th>\n",
       "      <td>1</td>\n",
       "      <td>10</td>\n",
       "      <td>10.</td>\n",
       "      <td>94004.954791</td>\n",
       "    </tr>\n",
       "  </tbody>\n",
       "</table>\n",
       "</div>"
      ],
      "text/plain": [
       "  Gender DeptName nYcurPos  predictedAnnualRate\n",
       "0      0       21       0.         72125.744363\n",
       "1      1       21       0.         75102.800299\n",
       "2      0       21      10.         93934.779282\n",
       "3      1       21      10.         93980.843869\n",
       "4      0       10       0.         70392.355714\n",
       "5      1       10       0.         69158.084205\n",
       "6      0       10      10.         93884.764626\n",
       "7      1       10      10.         94004.954791"
      ]
     },
     "execution_count": 30,
     "metadata": {},
     "output_type": "execute_result"
    }
   ],
   "source": [
    "y_hat=rfModel_GS_final.predict(newToPredict_xtest)\n",
    "#y_hat = pd.DataFrame(y_hat, index=y_test1.index, columns=[\"calculated\"])\n",
    "#print(y_hat)\n",
    "newToPredict_df[\"predictedAnnualRate\"]=y_hat\n",
    "newToPredict_df"
   ]
  },
  {
   "cell_type": "code",
   "execution_count": null,
   "metadata": {},
   "outputs": [],
   "source": []
  }
 ],
 "metadata": {
  "kernelspec": {
   "display_name": "Python 3",
   "language": "python",
   "name": "python3"
  },
  "language_info": {
   "codemirror_mode": {
    "name": "ipython",
    "version": 3
   },
   "file_extension": ".py",
   "mimetype": "text/x-python",
   "name": "python",
   "nbconvert_exporter": "python",
   "pygments_lexer": "ipython3",
   "version": "3.6.7"
  },
  "latex_envs": {
   "LaTeX_envs_menu_present": true,
   "autoclose": false,
   "autocomplete": true,
   "bibliofile": "biblio.bib",
   "cite_by": "apalike",
   "current_citInitial": 1,
   "eqLabelWithNumbers": true,
   "eqNumInitial": 1,
   "hotkeys": {
    "equation": "Ctrl-E",
    "itemize": "Ctrl-I"
   },
   "labels_anchors": false,
   "latex_user_defs": false,
   "report_style_numbering": false,
   "user_envs_cfg": false
  },
  "toc": {
   "base_numbering": 1,
   "nav_menu": {},
   "number_sections": true,
   "sideBar": true,
   "skip_h1_title": false,
   "title_cell": "Table of Contents",
   "title_sidebar": "Contents",
   "toc_cell": true,
   "toc_position": {
    "height": "calc(100% - 180px)",
    "left": "10px",
    "top": "150px",
    "width": "384px"
   },
   "toc_section_display": true,
   "toc_window_display": true
  }
 },
 "nbformat": 4,
 "nbformat_minor": 2
}
