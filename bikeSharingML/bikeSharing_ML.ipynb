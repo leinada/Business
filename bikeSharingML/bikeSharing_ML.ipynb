{
 "cells": [
  {
   "cell_type": "markdown",
   "metadata": {},
   "source": [
    "# ML : Bike Sharing Dataset\n",
    "+ Based on Bike Sharing dataset from [UCI Machine Learning Repository](https://archive.ics.uci.edu/ml/datasets/Bike+Sharing+Dataset)\n",
    "+ This notebook is based upon the hourly data file, i.e. hour.csv\n"
   ]
  },
  {
   "cell_type": "markdown",
   "metadata": {},
   "source": [
    "### Problem Statement\n",
    "Given the Bike Sharing dataset with hourly level information of bikes along with weather and other attributes,  solve the business problem of predicting bike demand for a given date time."
   ]
  },
  {
   "cell_type": "markdown",
   "metadata": {},
   "source": [
    "## Import required packages"
   ]
  },
  {
   "cell_type": "code",
   "execution_count": 44,
   "metadata": {},
   "outputs": [
    {
     "data": {
      "text/html": [
       "        <script type=\"text/javascript\">\n",
       "        window.PlotlyConfig = {MathJaxConfig: 'local'};\n",
       "        if (window.MathJax) {MathJax.Hub.Config({SVG: {font: \"STIX-Web\"}});}\n",
       "        if (typeof require !== 'undefined') {\n",
       "        require.undef(\"plotly\");\n",
       "        requirejs.config({\n",
       "            paths: {\n",
       "                'plotly': ['https://cdn.plot.ly/plotly-latest.min']\n",
       "            }\n",
       "        });\n",
       "        require(['plotly'], function(Plotly) {\n",
       "            window._Plotly = Plotly;\n",
       "        });\n",
       "        }\n",
       "        </script>\n",
       "        "
      ]
     },
     "metadata": {},
     "output_type": "display_data"
    }
   ],
   "source": [
    "# data manipulation \n",
    "import numpy as np\n",
    "import pandas as pd\n",
    "from prettytable import PrettyTable\n",
    "from tqdm import tqdm\n",
    "\n",
    "# plotting\n",
    "import seaborn as sns\n",
    "import matplotlib.pyplot as plt\n",
    "%matplotlib inline\n",
    "\n",
    "\n",
    "from plotly import tools\n",
    "import plotly.offline as py\n",
    "py.init_notebook_mode(connected=True)\n",
    "import plotly.graph_objs as go\n",
    "import plotly.figure_factory as ff\n",
    "from plotly.subplots import make_subplots\n",
    "\n",
    "\n",
    "# Sklearn model selection\n",
    "from sklearn.model_selection import RandomizedSearchCV,GridSearchCV,cross_val_score\n",
    "# Sklearn metrics\n",
    "from sklearn.metrics import mean_squared_error, mean_absolute_error, mean_squared_log_error\n",
    "# Sklearn models\n",
    "from sklearn.linear_model import Lasso, ElasticNet, Ridge, SGDRegressor\n",
    "from sklearn.svm import SVR, NuSVR\n",
    "from sklearn.ensemble import BaggingRegressor, RandomForestRegressor\n",
    "from sklearn.neighbors import KNeighborsClassifier\n",
    "from sklearn.cluster import KMeans\n",
    "from sklearn.model_selection import train_test_split\n",
    "\n",
    "from sklearn.ensemble import RandomForestClassifier\n",
    "from sklearn.ensemble import GradientBoostingClassifier\n",
    "\n",
    "from sklearn.linear_model import LinearRegression\n",
    "\n",
    "from sklearn.preprocessing import LabelEncoder\n",
    "from sklearn.preprocessing import OneHotEncoder\n",
    "\n",
    "import random\n",
    "# Make results reproducible\n",
    "random.seed(42)\n",
    "\n",
    "#setting params\n",
    "params = {'legend.fontsize': 'x-large',\n",
    "          'figure.figsize': (30, 10),\n",
    "          'axes.labelsize': 'x-large',\n",
    "          'axes.titlesize':'x-large',\n",
    "          'xtick.labelsize':'x-large',\n",
    "          'ytick.labelsize':'x-large'}\n",
    "\n",
    "sns.set_style('whitegrid')\n",
    "sns.set_context('talk')\n",
    "\n",
    "plt.rcParams.update(params)\n",
    "pd.options.display.max_colwidth = 600\n",
    "\n",
    "# pandas display data frames as tables\n",
    "from IPython.display import display, HTML\n",
    "\n",
    "import warnings\n",
    "warnings.simplefilter(action='ignore', category=FutureWarning)"
   ]
  },
  {
   "cell_type": "markdown",
   "metadata": {},
   "source": [
    "## Load Dataset"
   ]
  },
  {
   "cell_type": "code",
   "execution_count": 2,
   "metadata": {},
   "outputs": [
    {
     "name": "stdout",
     "output_type": "stream",
     "text": [
      "Shape of dataset::(17379, 17)\n"
     ]
    }
   ],
   "source": [
    "hour_df = pd.read_csv('hour.csv')\n",
    "print(\"Shape of dataset::{}\".format(hour_df.shape))"
   ]
  },
  {
   "cell_type": "markdown",
   "metadata": {},
   "source": [
    "## Preprocessing\n",
    "+ Standarize column names\n",
    "+ Typecast attributes\n",
    "+ Encode Categoricals using One Hot Encoding"
   ]
  },
  {
   "cell_type": "markdown",
   "metadata": {},
   "source": [
    "### Standarize Column Names"
   ]
  },
  {
   "cell_type": "code",
   "execution_count": 4,
   "metadata": {},
   "outputs": [],
   "source": [
    "hour_df.rename(columns={'instant':'rec_id',\n",
    "                        'dteday':'datetime',\n",
    "                        'holiday':'is_holiday',\n",
    "                        'workingday':'is_workingday',\n",
    "                        'weathersit':'weather_condition',\n",
    "                        'hum':'humidity',\n",
    "                        'mnth':'month',\n",
    "                        'cnt':'total_count',\n",
    "                        'hr':'hour',\n",
    "                        'yr':'year'},inplace=True)"
   ]
  },
  {
   "cell_type": "markdown",
   "metadata": {},
   "source": [
    "### Typecast Attributes"
   ]
  },
  {
   "cell_type": "code",
   "execution_count": 5,
   "metadata": {},
   "outputs": [],
   "source": [
    "# date time conversion\n",
    "hour_df['datetime'] = pd.to_datetime(hour_df.datetime)\n",
    "\n",
    "# categorical variables\n",
    "hour_df['season'] = hour_df.season.astype('category')\n",
    "hour_df['is_holiday'] = hour_df.is_holiday.astype('category')\n",
    "hour_df['weekday'] = hour_df.weekday.astype('category')\n",
    "hour_df['weather_condition'] = hour_df.weather_condition.astype('category')\n",
    "hour_df['is_workingday'] = hour_df.is_workingday.astype('category')\n",
    "hour_df['month'] = hour_df.month.astype('category')\n",
    "hour_df['year'] = hour_df.year.astype('category')\n",
    "hour_df['hour'] = hour_df.hour.astype('category')"
   ]
  },
  {
   "cell_type": "code",
   "execution_count": 6,
   "metadata": {},
   "outputs": [
    {
     "data": {
      "text/html": [
       "<div>\n",
       "<style scoped>\n",
       "    .dataframe tbody tr th:only-of-type {\n",
       "        vertical-align: middle;\n",
       "    }\n",
       "\n",
       "    .dataframe tbody tr th {\n",
       "        vertical-align: top;\n",
       "    }\n",
       "\n",
       "    .dataframe thead th {\n",
       "        text-align: right;\n",
       "    }\n",
       "</style>\n",
       "<table border=\"1\" class=\"dataframe\">\n",
       "  <thead>\n",
       "    <tr style=\"text-align: right;\">\n",
       "      <th></th>\n",
       "      <th>rec_id</th>\n",
       "      <th>datetime</th>\n",
       "      <th>season</th>\n",
       "      <th>year</th>\n",
       "      <th>month</th>\n",
       "      <th>hour</th>\n",
       "      <th>is_holiday</th>\n",
       "      <th>weekday</th>\n",
       "      <th>is_workingday</th>\n",
       "      <th>weather_condition</th>\n",
       "      <th>temp</th>\n",
       "      <th>atemp</th>\n",
       "      <th>humidity</th>\n",
       "      <th>windspeed</th>\n",
       "      <th>casual</th>\n",
       "      <th>registered</th>\n",
       "      <th>total_count</th>\n",
       "    </tr>\n",
       "  </thead>\n",
       "  <tbody>\n",
       "    <tr>\n",
       "      <th>0</th>\n",
       "      <td>1</td>\n",
       "      <td>2011-01-01</td>\n",
       "      <td>1</td>\n",
       "      <td>0</td>\n",
       "      <td>1</td>\n",
       "      <td>0</td>\n",
       "      <td>0</td>\n",
       "      <td>6</td>\n",
       "      <td>0</td>\n",
       "      <td>1</td>\n",
       "      <td>0.24</td>\n",
       "      <td>0.2879</td>\n",
       "      <td>0.81</td>\n",
       "      <td>0.0</td>\n",
       "      <td>3</td>\n",
       "      <td>13</td>\n",
       "      <td>16</td>\n",
       "    </tr>\n",
       "    <tr>\n",
       "      <th>1</th>\n",
       "      <td>2</td>\n",
       "      <td>2011-01-01</td>\n",
       "      <td>1</td>\n",
       "      <td>0</td>\n",
       "      <td>1</td>\n",
       "      <td>1</td>\n",
       "      <td>0</td>\n",
       "      <td>6</td>\n",
       "      <td>0</td>\n",
       "      <td>1</td>\n",
       "      <td>0.22</td>\n",
       "      <td>0.2727</td>\n",
       "      <td>0.80</td>\n",
       "      <td>0.0</td>\n",
       "      <td>8</td>\n",
       "      <td>32</td>\n",
       "      <td>40</td>\n",
       "    </tr>\n",
       "    <tr>\n",
       "      <th>2</th>\n",
       "      <td>3</td>\n",
       "      <td>2011-01-01</td>\n",
       "      <td>1</td>\n",
       "      <td>0</td>\n",
       "      <td>1</td>\n",
       "      <td>2</td>\n",
       "      <td>0</td>\n",
       "      <td>6</td>\n",
       "      <td>0</td>\n",
       "      <td>1</td>\n",
       "      <td>0.22</td>\n",
       "      <td>0.2727</td>\n",
       "      <td>0.80</td>\n",
       "      <td>0.0</td>\n",
       "      <td>5</td>\n",
       "      <td>27</td>\n",
       "      <td>32</td>\n",
       "    </tr>\n",
       "  </tbody>\n",
       "</table>\n",
       "</div>"
      ],
      "text/plain": [
       "   rec_id   datetime season year month hour is_holiday weekday is_workingday  \\\n",
       "0       1 2011-01-01      1    0     1    0          0       6             0   \n",
       "1       2 2011-01-01      1    0     1    1          0       6             0   \n",
       "2       3 2011-01-01      1    0     1    2          0       6             0   \n",
       "\n",
       "  weather_condition  temp   atemp  humidity  windspeed  casual  registered  \\\n",
       "0                 1  0.24  0.2879      0.81        0.0       3          13   \n",
       "1                 1  0.22  0.2727      0.80        0.0       8          32   \n",
       "2                 1  0.22  0.2727      0.80        0.0       5          27   \n",
       "\n",
       "   total_count  \n",
       "0           16  \n",
       "1           40  \n",
       "2           32  "
      ]
     },
     "execution_count": 6,
     "metadata": {},
     "output_type": "execute_result"
    }
   ],
   "source": [
    "hour_df.head(3)"
   ]
  },
  {
   "cell_type": "markdown",
   "metadata": {},
   "source": [
    "\n",
    "### Encode Categoricals (One Hot Encoding)"
   ]
  },
  {
   "cell_type": "code",
   "execution_count": 16,
   "metadata": {},
   "outputs": [],
   "source": [
    "def fit_transform_ohe(df,col_name):\n",
    "    \"\"\"This function performs one hot encoding for the specified\n",
    "        column.\n",
    "\n",
    "    Args:\n",
    "        df(pandas.DataFrame): the data frame containing the mentioned column name\n",
    "        col_name: the column to be one hot encoded\n",
    "\n",
    "    Returns:\n",
    "        tuple: label_encoder, one_hot_encoder, transformed column as pandas Series\n",
    "\n",
    "    \"\"\"\n",
    "    # label encode the column\n",
    "    le = LabelEncoder()\n",
    "    le_labels = le.fit_transform(df[col_name])\n",
    "    df[col_name+'_label'] = le_labels\n",
    "    \n",
    "    # one hot encoding\n",
    "    ohe = OneHotEncoder()\n",
    "    feature_arr = ohe.fit_transform(df[[col_name+'_label']]).toarray()\n",
    "    feature_labels = [col_name+'_'+str(cls_label) for cls_label in le.classes_]\n",
    "    features_df = pd.DataFrame(feature_arr, columns=feature_labels)\n",
    "    \n",
    "    return le,ohe,features_df\n",
    "\n",
    "# given label encoder and one hot encoder objects, \n",
    "# encode attribute to ohe\n",
    "def transform_ohe(df,le,ohe,col_name):\n",
    "    \"\"\"This function performs one hot encoding for the specified\n",
    "        column using the specified encoder objects.\n",
    "\n",
    "    Args:\n",
    "        df(pandas.DataFrame): the data frame containing the mentioned column name\n",
    "        le(Label Encoder): the label encoder object used to fit label encoding\n",
    "        ohe(One Hot Encoder): the one hot encoder object used to fit one hot encoding\n",
    "        col_name: the column to be one hot encoded\n",
    "\n",
    "    Returns:\n",
    "        tuple: transformed column as pandas Series\n",
    "\n",
    "    \"\"\"\n",
    "    # label encode\n",
    "    col_labels = le.transform(df[col_name])\n",
    "    df[col_name+'_label'] = col_labels\n",
    "    \n",
    "    # ohe \n",
    "    feature_arr = ohe.fit_transform(df[[col_name+'_label']]).toarray()\n",
    "    feature_labels = [col_name+'_'+str(cls_label) for cls_label in le.classes_]\n",
    "    features_df = pd.DataFrame(feature_arr, columns=feature_labels)\n",
    "    \n",
    "    return features_df"
   ]
  },
  {
   "cell_type": "markdown",
   "metadata": {},
   "source": [
    "## Train-Test Split"
   ]
  },
  {
   "cell_type": "code",
   "execution_count": 17,
   "metadata": {},
   "outputs": [
    {
     "name": "stdout",
     "output_type": "stream",
     "text": [
      "Training set::(13903, 15)(13903, 2)\n",
      "Testing set::(3476, 15)\n"
     ]
    }
   ],
   "source": [
    "X_train, X_test, y_train, y_test = train_test_split(hour_df.iloc[:,0:-3], hour_df.iloc[:,-1],test_size=0.20, random_state=42)\n",
    "\n",
    "X_train.reset_index(inplace=True)\n",
    "y_train = y_train.reset_index()\n",
    "\n",
    "X_test.reset_index(inplace=True)\n",
    "y_test = y_test.reset_index()\n",
    "\n",
    "print(\"Training set::{}{}\".format(X_train.shape,y_train.shape))\n",
    "print(\"Testing set::{}\".format(X_test.shape))"
   ]
  },
  {
   "cell_type": "code",
   "execution_count": 18,
   "metadata": {},
   "outputs": [],
   "source": [
    "cat_attr_list = ['season','is_holiday',\n",
    "                 'weather_condition','is_workingday',\n",
    "                 'hour','weekday','month','year']\n",
    "numeric_feature_cols = ['temp','humidity','windspeed','hour','weekday','month','year']\n",
    "subset_cat_features =  ['season','is_holiday','weather_condition','is_workingday']"
   ]
  },
  {
   "cell_type": "markdown",
   "metadata": {},
   "source": [
    "Though we have transformed all categoricals into their one-hot encodings, ordinal attributes such as hour, weekday, and so on do not require such encoding."
   ]
  },
  {
   "cell_type": "code",
   "execution_count": 19,
   "metadata": {},
   "outputs": [],
   "source": [
    "encoded_attr_list = []\n",
    "for col in cat_attr_list:\n",
    "    return_obj = fit_transform_ohe(X_train,col)\n",
    "    encoded_attr_list.append({'label_enc':return_obj[0],\n",
    "                              'ohe_enc':return_obj[1],\n",
    "                              'feature_df':return_obj[2],\n",
    "                              'col_name':col})"
   ]
  },
  {
   "cell_type": "code",
   "execution_count": 20,
   "metadata": {},
   "outputs": [
    {
     "name": "stdout",
     "output_type": "stream",
     "text": [
      "Shape::(13903, 19)\n"
     ]
    }
   ],
   "source": [
    "feature_df_list = [X_train[numeric_feature_cols]]\n",
    "feature_df_list.extend([enc['feature_df'] \\\n",
    "                        for enc in encoded_attr_list \\\n",
    "                        if enc['col_name'] in subset_cat_features])\n",
    "\n",
    "train_df_new = pd.concat(feature_df_list, axis=1)\n",
    "print(\"Shape::{}\".format(train_df_new.shape))\n"
   ]
  },
  {
   "cell_type": "code",
   "execution_count": 21,
   "metadata": {},
   "outputs": [
    {
     "data": {
      "text/html": [
       "<div>\n",
       "<style scoped>\n",
       "    .dataframe tbody tr th:only-of-type {\n",
       "        vertical-align: middle;\n",
       "    }\n",
       "\n",
       "    .dataframe tbody tr th {\n",
       "        vertical-align: top;\n",
       "    }\n",
       "\n",
       "    .dataframe thead th {\n",
       "        text-align: right;\n",
       "    }\n",
       "</style>\n",
       "<table border=\"1\" class=\"dataframe\">\n",
       "  <thead>\n",
       "    <tr style=\"text-align: right;\">\n",
       "      <th></th>\n",
       "      <th>temp</th>\n",
       "      <th>humidity</th>\n",
       "      <th>windspeed</th>\n",
       "      <th>hour</th>\n",
       "      <th>weekday</th>\n",
       "      <th>month</th>\n",
       "      <th>year</th>\n",
       "      <th>season_1</th>\n",
       "      <th>season_2</th>\n",
       "      <th>season_3</th>\n",
       "      <th>season_4</th>\n",
       "      <th>is_holiday_0</th>\n",
       "      <th>is_holiday_1</th>\n",
       "      <th>weather_condition_1</th>\n",
       "      <th>weather_condition_2</th>\n",
       "      <th>weather_condition_3</th>\n",
       "      <th>weather_condition_4</th>\n",
       "      <th>is_workingday_0</th>\n",
       "      <th>is_workingday_1</th>\n",
       "    </tr>\n",
       "  </thead>\n",
       "  <tbody>\n",
       "    <tr>\n",
       "      <th>0</th>\n",
       "      <td>0.20</td>\n",
       "      <td>0.55</td>\n",
       "      <td>0.2239</td>\n",
       "      <td>11</td>\n",
       "      <td>6</td>\n",
       "      <td>1</td>\n",
       "      <td>0</td>\n",
       "      <td>1.0</td>\n",
       "      <td>0.0</td>\n",
       "      <td>0.0</td>\n",
       "      <td>0.0</td>\n",
       "      <td>1.0</td>\n",
       "      <td>0.0</td>\n",
       "      <td>1.0</td>\n",
       "      <td>0.0</td>\n",
       "      <td>0.0</td>\n",
       "      <td>0.0</td>\n",
       "      <td>1.0</td>\n",
       "      <td>0.0</td>\n",
       "    </tr>\n",
       "    <tr>\n",
       "      <th>1</th>\n",
       "      <td>0.52</td>\n",
       "      <td>0.42</td>\n",
       "      <td>0.1045</td>\n",
       "      <td>18</td>\n",
       "      <td>2</td>\n",
       "      <td>10</td>\n",
       "      <td>0</td>\n",
       "      <td>0.0</td>\n",
       "      <td>0.0</td>\n",
       "      <td>0.0</td>\n",
       "      <td>1.0</td>\n",
       "      <td>1.0</td>\n",
       "      <td>0.0</td>\n",
       "      <td>1.0</td>\n",
       "      <td>0.0</td>\n",
       "      <td>0.0</td>\n",
       "      <td>0.0</td>\n",
       "      <td>0.0</td>\n",
       "      <td>1.0</td>\n",
       "    </tr>\n",
       "    <tr>\n",
       "      <th>2</th>\n",
       "      <td>0.46</td>\n",
       "      <td>1.00</td>\n",
       "      <td>0.2239</td>\n",
       "      <td>3</td>\n",
       "      <td>3</td>\n",
       "      <td>12</td>\n",
       "      <td>0</td>\n",
       "      <td>0.0</td>\n",
       "      <td>0.0</td>\n",
       "      <td>0.0</td>\n",
       "      <td>1.0</td>\n",
       "      <td>1.0</td>\n",
       "      <td>0.0</td>\n",
       "      <td>0.0</td>\n",
       "      <td>0.0</td>\n",
       "      <td>1.0</td>\n",
       "      <td>0.0</td>\n",
       "      <td>0.0</td>\n",
       "      <td>1.0</td>\n",
       "    </tr>\n",
       "  </tbody>\n",
       "</table>\n",
       "</div>"
      ],
      "text/plain": [
       "   temp  humidity  windspeed hour weekday month year  season_1  season_2  \\\n",
       "0  0.20      0.55     0.2239   11       6     1    0       1.0       0.0   \n",
       "1  0.52      0.42     0.1045   18       2    10    0       0.0       0.0   \n",
       "2  0.46      1.00     0.2239    3       3    12    0       0.0       0.0   \n",
       "\n",
       "   season_3  season_4  is_holiday_0  is_holiday_1  weather_condition_1  \\\n",
       "0       0.0       0.0           1.0           0.0                  1.0   \n",
       "1       0.0       1.0           1.0           0.0                  1.0   \n",
       "2       0.0       1.0           1.0           0.0                  0.0   \n",
       "\n",
       "   weather_condition_2  weather_condition_3  weather_condition_4  \\\n",
       "0                  0.0                  0.0                  0.0   \n",
       "1                  0.0                  0.0                  0.0   \n",
       "2                  0.0                  1.0                  0.0   \n",
       "\n",
       "   is_workingday_0  is_workingday_1  \n",
       "0              1.0              0.0  \n",
       "1              0.0              1.0  \n",
       "2              0.0              1.0  "
      ]
     },
     "execution_count": 21,
     "metadata": {},
     "output_type": "execute_result"
    }
   ],
   "source": [
    "train_df_new.head(3)"
   ]
  },
  {
   "cell_type": "code",
   "execution_count": 22,
   "metadata": {},
   "outputs": [],
   "source": [
    "X_train = train_df_new\n"
   ]
  },
  {
   "cell_type": "code",
   "execution_count": 23,
   "metadata": {},
   "outputs": [],
   "source": [
    "y_train= y_train.total_count.values.reshape(-1,1)\n",
    "y_train=y_train.ravel()"
   ]
  },
  {
   "cell_type": "code",
   "execution_count": 24,
   "metadata": {},
   "outputs": [
    {
     "name": "stdout",
     "output_type": "stream",
     "text": [
      "Shape::(3476, 19)\n"
     ]
    }
   ],
   "source": [
    "#while we are here prepare the test data  like  the train data, for future use\n",
    "test_encoded_attr_list = []\n",
    "for enc in encoded_attr_list:\n",
    "    col_name = enc['col_name']\n",
    "    le = enc['label_enc']\n",
    "    ohe = enc['ohe_enc']\n",
    "    test_encoded_attr_list.append({'feature_df':transform_ohe(X_test,le,ohe,col_name),'col_name':col_name})\n",
    "    \n",
    "    \n",
    "test_feature_df_list = [X_test[numeric_feature_cols]]\n",
    "test_feature_df_list.extend([enc['feature_df'] for enc in test_encoded_attr_list if enc['col_name'] in subset_cat_features])\n",
    "\n",
    "test_df_new = pd.concat(test_feature_df_list, axis=1) \n",
    "print(\"Shape::{}\".format(test_df_new.shape))"
   ]
  },
  {
   "cell_type": "code",
   "execution_count": 25,
   "metadata": {},
   "outputs": [],
   "source": [
    "X_test = test_df_new\n",
    "y_test = y_test.total_count.values.reshape(-1,1)\n",
    "y_test=y_test.ravel()"
   ]
  },
  {
   "cell_type": "markdown",
   "metadata": {},
   "source": [
    "# Machine Learning"
   ]
  },
  {
   "cell_type": "markdown",
   "metadata": {},
   "source": [
    "### Metrics"
   ]
  },
  {
   "cell_type": "markdown",
   "metadata": {},
   "source": [
    "Mean square error\n",
    "\\begin{equation}\n",
    "MSE = \\sqrt{\\frac{1}{N} \\sum_{i=1}^N (x_i - y_i)^2}\n",
    "\\end{equation}\n",
    "\n"
   ]
  },
  {
   "cell_type": "markdown",
   "metadata": {},
   "source": [
    "\\begin{equation}\n",
    "R^2=1-\\frac{\\sum_{i=1}^{n}e_i^2}{\\sum_{i=1}^{n}(y_i-\\bar{y})^2}\n",
    "\\end{equation}\n",
    "In the case of R^2, values closer to 0 are indicative of poor fitting models.\n"
   ]
  },
  {
   "cell_type": "markdown",
   "metadata": {},
   "source": [
    "### Model selection:\n",
    "\n",
    "- __Regression:__ The target variable is a quantity.\n",
    "- __Small dataset:__ Less than 100K samples.\n",
    "- __Few features should be important:__ The correlation matrix indicates that a few features contain the information to predict the target variable.\n",
    "\n",
    "This characteristic makes the following methods most promising: Ridge Regression, Support Vector Regression, Ensemble Regressor, Random Forest Regressor.\n",
    "\n",
    "Let us see the performance of these models in the following without any tuning yet:"
   ]
  },
  {
   "cell_type": "code",
   "execution_count": 29,
   "metadata": {},
   "outputs": [
    {
     "name": "stdout",
     "output_type": "stream",
     "text": [
      "CPU times: user 54 µs, sys: 0 ns, total: 54 µs\n",
      "Wall time: 60.3 µs\n"
     ]
    }
   ],
   "source": [
    "\n",
    "table = PrettyTable()\n",
    "table.field_names = [\"Model\", \"datasetname\", \"MSE\", \"MAE\",\"R^2 score\"]\n",
    "\n",
    "def evaluate(xx, yy,dataset,model):\n",
    "    y_pred = model.predict(xx)\n",
    "    mse = mean_squared_error( yy,y_pred)\n",
    "    mae = mean_absolute_error(yy,y_pred)\n",
    "    r2score = model.score(xx, yy)    \n",
    "    table.add_row([type(model).__name__, dataset, format(mse, '.2f'), format(mae, '.2f'), format(r2score, '.2f')])\n",
    "    \n"
   ]
  },
  {
   "cell_type": "code",
   "execution_count": 30,
   "metadata": {},
   "outputs": [
    {
     "name": "stdout",
     "output_type": "stream",
     "text": [
      "+-----------------------+-------------+----------+--------+-----------+\n",
      "|         Model         | datasetname |   MSE    |  MAE   | R^2 score |\n",
      "+-----------------------+-------------+----------+--------+-----------+\n",
      "|      SGDRegressor     |   training  | 22575.20 | 120.77 |    0.32   |\n",
      "|         Lasso         |   training  | 19986.21 | 105.81 |    0.40   |\n",
      "|       ElasticNet      |   training  | 24764.29 | 116.98 |    0.25   |\n",
      "|         Ridge         |   training  | 19983.74 | 105.86 |    0.40   |\n",
      "|          SVR          |   training  | 22267.29 | 101.65 |    0.33   |\n",
      "|          SVR          |   training  | 14622.71 | 72.51  |    0.56   |\n",
      "|    BaggingRegressor   |   training  |  353.80  | 10.75  |    0.99   |\n",
      "|    BaggingRegressor   |   training  | 11598.58 | 69.46  |    0.65   |\n",
      "|         NuSVR         |   training  | 14779.30 | 80.41  |    0.55   |\n",
      "| RandomForestRegressor |   training  |  251.99  |  9.50  |    0.99   |\n",
      "+-----------------------+-------------+----------+--------+-----------+\n",
      "==== Let us evaluate the model on test set===\n",
      "+-----------------------+-------------+----------+--------+-----------+\n",
      "|         Model         | datasetname |   MSE    |  MAE   | R^2 score |\n",
      "+-----------------------+-------------+----------+--------+-----------+\n",
      "|      SGDRegressor     |  validation | 21975.91 | 119.54 |    0.31   |\n",
      "|         Lasso         |  validation | 19051.86 | 103.77 |    0.40   |\n",
      "|       ElasticNet      |  validation | 23637.96 | 114.59 |    0.25   |\n",
      "|         Ridge         |  validation | 19043.89 | 103.81 |    0.40   |\n",
      "|          SVR          |  validation | 20911.70 | 98.78  |    0.34   |\n",
      "|          SVR          |  validation | 13480.79 | 69.99  |    0.57   |\n",
      "|    BaggingRegressor   |  validation | 1939.87  | 25.95  |    0.94   |\n",
      "|    BaggingRegressor   |  validation | 11647.46 | 69.57  |    0.63   |\n",
      "|         NuSVR         |  validation | 13688.94 | 77.52  |    0.57   |\n",
      "| RandomForestRegressor |  validation | 1766.98  | 24.63  |    0.94   |\n",
      "+-----------------------+-------------+----------+--------+-----------+\n",
      "CPU times: user 1min 25s, sys: 380 ms, total: 1min 25s\n",
      "Wall time: 1min 23s\n"
     ]
    }
   ],
   "source": [
    "%%time\n",
    "models = [\n",
    "    SGDRegressor(max_iter=1000, tol=1e-3),\n",
    "    Lasso(alpha=0.1),\n",
    "    ElasticNet(random_state=0),\n",
    "    Ridge(alpha=.5),\n",
    "    SVR(gamma='auto', kernel='linear'),\n",
    "    SVR(gamma='auto', kernel='rbf'),\n",
    "    BaggingRegressor(),\n",
    "    BaggingRegressor(KNeighborsClassifier(), max_samples=0.5, max_features=0.5),\n",
    "    NuSVR(gamma='auto'),\n",
    "    RandomForestRegressor( random_state=42, n_estimators=300)\n",
    "]\n",
    "\n",
    "for model in models:\n",
    "    model.fit(X_train, y_train) \n",
    "    evaluate(X_train, y_train,'training',model) #on the training set\n",
    "print(table)\n",
    "table.clear_rows() \n",
    "\n",
    "print(\"\\n\")\n",
    "print(\"==== Let us evaluate the model on test set===\")\n",
    "for model in models:\n",
    "    evaluate(X_test, y_test,'validation',model) #on the test/validation set  \n",
    "print(table)\n"
   ]
  },
  {
   "cell_type": "markdown",
   "metadata": {},
   "source": [
    "RF seems to be most promising. Let us dig a bit more on RF model "
   ]
  },
  {
   "cell_type": "markdown",
   "metadata": {},
   "source": [
    "## Random Forest model\n",
    "\n",
    "- with hyperparameter and crossvalidation"
   ]
  },
  {
   "cell_type": "code",
   "execution_count": 50,
   "metadata": {},
   "outputs": [],
   "source": [
    "'''\n",
    "param_grid = {\"criterion\": [\"mae\"],\n",
    "              \"min_samples_split\": [10, 20, 40], #minimum number of samples required to split an internal node\n",
    "              \"max_depth\": [2, 6, 8],\n",
    "              \"min_samples_leaf\": [10,20, 40],\n",
    "              \"max_leaf_nodes\": [100, 500, 800],\n",
    "              }\n",
    "              \n",
    "'''\n",
    "param_grid = {\"criterion\": [\"mae\"],\n",
    "              \"min_samples_split\": [2,4,6], #minimum number of samples required to split an internal node\n",
    "              \"min_samples_leaf\": [1,5],\n",
    "              \n",
    "              }\n"
   ]
  },
  {
   "cell_type": "code",
   "execution_count": 51,
   "metadata": {},
   "outputs": [],
   "source": [
    "\n",
    "rf=RandomForestRegressor( random_state=42)"
   ]
  },
  {
   "cell_type": "code",
   "execution_count": 52,
   "metadata": {},
   "outputs": [],
   "source": [
    "grid_cv_rf = GridSearchCV(rf, param_grid, n_jobs=-1,cv=5,verbose=50)"
   ]
  },
  {
   "cell_type": "code",
   "execution_count": 53,
   "metadata": {},
   "outputs": [
    {
     "name": "stdout",
     "output_type": "stream",
     "text": [
      "Fitting 5 folds for each of 6 candidates, totalling 30 fits\n",
      "[Parallel(n_jobs=-1)]: Using backend LokyBackend with 8 concurrent workers.\n",
      "[Parallel(n_jobs=-1)]: Done   1 tasks      | elapsed:   28.3s\n",
      "[Parallel(n_jobs=-1)]: Done   2 tasks      | elapsed:   28.5s\n",
      "[Parallel(n_jobs=-1)]: Done   3 tasks      | elapsed:   28.9s\n",
      "[Parallel(n_jobs=-1)]: Done   4 tasks      | elapsed:   29.0s\n",
      "[Parallel(n_jobs=-1)]: Done   5 tasks      | elapsed:   29.1s\n",
      "[Parallel(n_jobs=-1)]: Done   6 tasks      | elapsed:   29.2s\n",
      "[Parallel(n_jobs=-1)]: Done   7 tasks      | elapsed:   29.2s\n",
      "[Parallel(n_jobs=-1)]: Done   8 tasks      | elapsed:   29.4s\n",
      "[Parallel(n_jobs=-1)]: Done   9 tasks      | elapsed:   56.6s\n",
      "[Parallel(n_jobs=-1)]: Done  10 tasks      | elapsed:   56.7s\n",
      "[Parallel(n_jobs=-1)]: Done  11 tasks      | elapsed:   57.1s\n",
      "[Parallel(n_jobs=-1)]: Done  12 tasks      | elapsed:   57.3s\n",
      "[Parallel(n_jobs=-1)]: Done  13 tasks      | elapsed:   57.4s\n",
      "[Parallel(n_jobs=-1)]: Done  14 tasks      | elapsed:   57.5s\n",
      "[Parallel(n_jobs=-1)]: Done  15 tasks      | elapsed:   57.7s\n",
      "[Parallel(n_jobs=-1)]: Done  16 out of  30 | elapsed:   57.8s remaining:   50.6s\n",
      "[Parallel(n_jobs=-1)]: Done  17 out of  30 | elapsed:  1.4min remaining:  1.1min\n",
      "[Parallel(n_jobs=-1)]: Done  18 out of  30 | elapsed:  1.4min remaining:   56.0s\n",
      "[Parallel(n_jobs=-1)]: Done  19 out of  30 | elapsed:  1.4min remaining:   48.9s\n",
      "[Parallel(n_jobs=-1)]: Done  20 out of  30 | elapsed:  1.4min remaining:   42.2s\n",
      "[Parallel(n_jobs=-1)]: Done  21 out of  30 | elapsed:  1.4min remaining:   36.2s\n",
      "[Parallel(n_jobs=-1)]: Done  22 out of  30 | elapsed:  1.4min remaining:   30.8s\n",
      "[Parallel(n_jobs=-1)]: Done  23 out of  30 | elapsed:  1.4min remaining:   25.9s\n",
      "[Parallel(n_jobs=-1)]: Done  24 out of  30 | elapsed:  1.4min remaining:   21.3s\n",
      "[Parallel(n_jobs=-1)]: Done  25 out of  30 | elapsed:  1.7min remaining:   20.3s\n",
      "[Parallel(n_jobs=-1)]: Done  26 out of  30 | elapsed:  1.7min remaining:   15.7s\n",
      "[Parallel(n_jobs=-1)]: Done  27 out of  30 | elapsed:  1.8min remaining:   11.9s\n",
      "[Parallel(n_jobs=-1)]: Done  28 out of  30 | elapsed:  1.8min remaining:    7.7s\n",
      "[Parallel(n_jobs=-1)]: Done  30 out of  30 | elapsed:  1.8min remaining:    0.0s\n",
      "[Parallel(n_jobs=-1)]: Done  30 out of  30 | elapsed:  1.8min finished\n",
      "CPU times: user 26.2 s, sys: 14.8 ms, total: 26.2 s\n",
      "Wall time: 2min 13s\n"
     ]
    },
    {
     "data": {
      "text/plain": [
       "GridSearchCV(cv=5, error_score='raise-deprecating',\n",
       "             estimator=RandomForestRegressor(bootstrap=True, criterion='mse',\n",
       "                                             max_depth=None,\n",
       "                                             max_features='auto',\n",
       "                                             max_leaf_nodes=None,\n",
       "                                             min_impurity_decrease=0.0,\n",
       "                                             min_impurity_split=None,\n",
       "                                             min_samples_leaf=1,\n",
       "                                             min_samples_split=2,\n",
       "                                             min_weight_fraction_leaf=0.0,\n",
       "                                             n_estimators='warn', n_jobs=None,\n",
       "                                             oob_score=False, random_state=42,\n",
       "                                             verbose=0, warm_start=False),\n",
       "             iid='warn', n_jobs=-1,\n",
       "             param_grid={'criterion': ['mae'], 'min_samples_leaf': [1, 5],\n",
       "                         'min_samples_split': [2, 4, 6]},\n",
       "             pre_dispatch='2*n_jobs', refit=True, return_train_score=False,\n",
       "             scoring=None, verbose=50)"
      ]
     },
     "execution_count": 53,
     "metadata": {},
     "output_type": "execute_result"
    }
   ],
   "source": [
    "%%time\n",
    "grid_cv_rf.fit(X_train,y_train)\n"
   ]
  },
  {
   "cell_type": "code",
   "execution_count": 54,
   "metadata": {},
   "outputs": [
    {
     "name": "stdout",
     "output_type": "stream",
     "text": [
      "R-Squared::0.9327664944150883\n",
      "Best Hyperparameters::\n",
      "{'criterion': 'mae', 'min_samples_leaf': 1, 'min_samples_split': 2}\n"
     ]
    }
   ],
   "source": [
    "#metrics on train data\n",
    "print(\"R-Squared::{}\".format(grid_cv_rf.best_score_))\n",
    "print(\"Best Hyperparameters::\\n{}\".format(grid_cv_rf.best_params_))"
   ]
  },
  {
   "cell_type": "code",
   "execution_count": 55,
   "metadata": {},
   "outputs": [
    {
     "data": {
      "text/html": [
       "<div>\n",
       "<style scoped>\n",
       "    .dataframe tbody tr th:only-of-type {\n",
       "        vertical-align: middle;\n",
       "    }\n",
       "\n",
       "    .dataframe tbody tr th {\n",
       "        vertical-align: top;\n",
       "    }\n",
       "\n",
       "    .dataframe thead th {\n",
       "        text-align: right;\n",
       "    }\n",
       "</style>\n",
       "<table border=\"1\" class=\"dataframe\">\n",
       "  <thead>\n",
       "    <tr style=\"text-align: right;\">\n",
       "      <th></th>\n",
       "      <th>mean_fit_time</th>\n",
       "      <th>std_fit_time</th>\n",
       "      <th>mean_score_time</th>\n",
       "      <th>std_score_time</th>\n",
       "      <th>param_criterion</th>\n",
       "      <th>param_min_samples_leaf</th>\n",
       "      <th>param_min_samples_split</th>\n",
       "      <th>params</th>\n",
       "      <th>split0_test_score</th>\n",
       "      <th>split1_test_score</th>\n",
       "      <th>split2_test_score</th>\n",
       "      <th>split3_test_score</th>\n",
       "      <th>split4_test_score</th>\n",
       "      <th>mean_test_score</th>\n",
       "      <th>std_test_score</th>\n",
       "      <th>rank_test_score</th>\n",
       "    </tr>\n",
       "  </thead>\n",
       "  <tbody>\n",
       "    <tr>\n",
       "      <th>0</th>\n",
       "      <td>28.553122</td>\n",
       "      <td>0.332938</td>\n",
       "      <td>0.014418</td>\n",
       "      <td>0.000677</td>\n",
       "      <td>mae</td>\n",
       "      <td>1</td>\n",
       "      <td>2</td>\n",
       "      <td>{'criterion': 'mae', 'min_samples_leaf': 1, 'min_samples_split': 2}</td>\n",
       "      <td>0.936992</td>\n",
       "      <td>0.925103</td>\n",
       "      <td>0.935329</td>\n",
       "      <td>0.937449</td>\n",
       "      <td>0.928960</td>\n",
       "      <td>0.932766</td>\n",
       "      <td>0.004890</td>\n",
       "      <td>1</td>\n",
       "    </tr>\n",
       "    <tr>\n",
       "      <th>1</th>\n",
       "      <td>28.457365</td>\n",
       "      <td>0.397863</td>\n",
       "      <td>0.012813</td>\n",
       "      <td>0.000482</td>\n",
       "      <td>mae</td>\n",
       "      <td>1</td>\n",
       "      <td>4</td>\n",
       "      <td>{'criterion': 'mae', 'min_samples_leaf': 1, 'min_samples_split': 4}</td>\n",
       "      <td>0.936680</td>\n",
       "      <td>0.926967</td>\n",
       "      <td>0.934078</td>\n",
       "      <td>0.936394</td>\n",
       "      <td>0.929278</td>\n",
       "      <td>0.932679</td>\n",
       "      <td>0.003898</td>\n",
       "      <td>2</td>\n",
       "    </tr>\n",
       "    <tr>\n",
       "      <th>2</th>\n",
       "      <td>28.336460</td>\n",
       "      <td>0.227807</td>\n",
       "      <td>0.012458</td>\n",
       "      <td>0.000562</td>\n",
       "      <td>mae</td>\n",
       "      <td>1</td>\n",
       "      <td>6</td>\n",
       "      <td>{'criterion': 'mae', 'min_samples_leaf': 1, 'min_samples_split': 6}</td>\n",
       "      <td>0.935652</td>\n",
       "      <td>0.925934</td>\n",
       "      <td>0.933447</td>\n",
       "      <td>0.935544</td>\n",
       "      <td>0.929058</td>\n",
       "      <td>0.931927</td>\n",
       "      <td>0.003832</td>\n",
       "      <td>3</td>\n",
       "    </tr>\n",
       "    <tr>\n",
       "      <th>3</th>\n",
       "      <td>27.169266</td>\n",
       "      <td>0.221663</td>\n",
       "      <td>0.010548</td>\n",
       "      <td>0.000218</td>\n",
       "      <td>mae</td>\n",
       "      <td>5</td>\n",
       "      <td>2</td>\n",
       "      <td>{'criterion': 'mae', 'min_samples_leaf': 5, 'min_samples_split': 2}</td>\n",
       "      <td>0.933791</td>\n",
       "      <td>0.911512</td>\n",
       "      <td>0.930962</td>\n",
       "      <td>0.931546</td>\n",
       "      <td>0.921398</td>\n",
       "      <td>0.925842</td>\n",
       "      <td>0.008332</td>\n",
       "      <td>4</td>\n",
       "    </tr>\n",
       "    <tr>\n",
       "      <th>4</th>\n",
       "      <td>25.366842</td>\n",
       "      <td>3.599186</td>\n",
       "      <td>0.009654</td>\n",
       "      <td>0.001586</td>\n",
       "      <td>mae</td>\n",
       "      <td>5</td>\n",
       "      <td>4</td>\n",
       "      <td>{'criterion': 'mae', 'min_samples_leaf': 5, 'min_samples_split': 4}</td>\n",
       "      <td>0.933791</td>\n",
       "      <td>0.911512</td>\n",
       "      <td>0.930962</td>\n",
       "      <td>0.931546</td>\n",
       "      <td>0.921398</td>\n",
       "      <td>0.925842</td>\n",
       "      <td>0.008332</td>\n",
       "      <td>4</td>\n",
       "    </tr>\n",
       "  </tbody>\n",
       "</table>\n",
       "</div>"
      ],
      "text/plain": [
       "   mean_fit_time  std_fit_time  mean_score_time  std_score_time  \\\n",
       "0      28.553122      0.332938         0.014418        0.000677   \n",
       "1      28.457365      0.397863         0.012813        0.000482   \n",
       "2      28.336460      0.227807         0.012458        0.000562   \n",
       "3      27.169266      0.221663         0.010548        0.000218   \n",
       "4      25.366842      3.599186         0.009654        0.001586   \n",
       "\n",
       "  param_criterion param_min_samples_leaf param_min_samples_split  \\\n",
       "0             mae                      1                       2   \n",
       "1             mae                      1                       4   \n",
       "2             mae                      1                       6   \n",
       "3             mae                      5                       2   \n",
       "4             mae                      5                       4   \n",
       "\n",
       "                                                                params  \\\n",
       "0  {'criterion': 'mae', 'min_samples_leaf': 1, 'min_samples_split': 2}   \n",
       "1  {'criterion': 'mae', 'min_samples_leaf': 1, 'min_samples_split': 4}   \n",
       "2  {'criterion': 'mae', 'min_samples_leaf': 1, 'min_samples_split': 6}   \n",
       "3  {'criterion': 'mae', 'min_samples_leaf': 5, 'min_samples_split': 2}   \n",
       "4  {'criterion': 'mae', 'min_samples_leaf': 5, 'min_samples_split': 4}   \n",
       "\n",
       "   split0_test_score  split1_test_score  split2_test_score  split3_test_score  \\\n",
       "0           0.936992           0.925103           0.935329           0.937449   \n",
       "1           0.936680           0.926967           0.934078           0.936394   \n",
       "2           0.935652           0.925934           0.933447           0.935544   \n",
       "3           0.933791           0.911512           0.930962           0.931546   \n",
       "4           0.933791           0.911512           0.930962           0.931546   \n",
       "\n",
       "   split4_test_score  mean_test_score  std_test_score  rank_test_score  \n",
       "0           0.928960         0.932766        0.004890                1  \n",
       "1           0.929278         0.932679        0.003898                2  \n",
       "2           0.929058         0.931927        0.003832                3  \n",
       "3           0.921398         0.925842        0.008332                4  \n",
       "4           0.921398         0.925842        0.008332                4  "
      ]
     },
     "execution_count": 55,
     "metadata": {},
     "output_type": "execute_result"
    }
   ],
   "source": [
    "param_df = pd.DataFrame(data=grid_cv_rf.cv_results_)\n",
    "param_df.head()"
   ]
  },
  {
   "cell_type": "code",
   "execution_count": 57,
   "metadata": {},
   "outputs": [
    {
     "name": "stdout",
     "output_type": "stream",
     "text": [
      "avg R-squared::0.8922636211557166\n",
      "MAE::-37.267429690730175\n",
      "CPU times: user 13.5 s, sys: 4.92 ms, total: 13.5 s\n",
      "Wall time: 13.5 s\n"
     ]
    }
   ],
   "source": [
    "%%time\n",
    "#metrics on validation data\n",
    "r2scores = cross_val_score(grid_cv_rf.best_estimator_, X_test, y_test, cv=5)\n",
    "mse_scores = cross_val_score(grid_cv_rf.best_estimator_, X_test, y_test, cv=5,scoring='neg_mean_absolute_error')\n",
    "print(\"avg R-squared::{}\".format(np.mean(r2scores)))\n",
    "print(\"MAE::{}\".format(np.mean(mse_scores)))"
   ]
  },
  {
   "cell_type": "markdown",
   "metadata": {},
   "source": [
    "It looks like our default RF regressor was pretty good"
   ]
  },
  {
   "cell_type": "markdown",
   "metadata": {},
   "source": [
    "### Feature importance"
   ]
  },
  {
   "cell_type": "code",
   "execution_count": 60,
   "metadata": {},
   "outputs": [],
   "source": [
    "tuned_rf = grid_cv_rf.best_estimator_"
   ]
  },
  {
   "cell_type": "code",
   "execution_count": 100,
   "metadata": {},
   "outputs": [
    {
     "data": {
      "text/plain": [
       "['temp',\n",
       " 'humidity',\n",
       " 'windspeed',\n",
       " 'hour',\n",
       " 'weekday',\n",
       " 'month',\n",
       " 'year',\n",
       " 'season_1',\n",
       " 'season_2',\n",
       " 'season_3',\n",
       " 'season_4',\n",
       " 'is_holiday_0',\n",
       " 'is_holiday_1',\n",
       " 'weather_condition_1',\n",
       " 'weather_condition_2',\n",
       " 'weather_condition_3',\n",
       " 'weather_condition_4',\n",
       " 'is_workingday_0',\n",
       " 'is_workingday_1']"
      ]
     },
     "execution_count": 100,
     "metadata": {},
     "output_type": "execute_result"
    }
   ],
   "source": [
    "#features= hour_df.columns[[1,2,3,4,5,6,7,8,9,10,11,12,13,14]]\n",
    "features=list(X_test.columns.values)\n",
    "features"
   ]
  },
  {
   "cell_type": "code",
   "execution_count": 101,
   "metadata": {},
   "outputs": [],
   "source": [
    "importances = tuned_rf.feature_importances_\n",
    "std = np.std([tree.feature_importances_ for tree in tuned_rf.estimators_], axis=0)\n",
    "indices = np.argsort(importances)[::-1]"
   ]
  },
  {
   "cell_type": "code",
   "execution_count": 102,
   "metadata": {},
   "outputs": [
    {
     "name": "stdout",
     "output_type": "stream",
     "text": [
      "Feature ranking:\n",
      "19\n",
      "1. feature hour (0.526248)\n",
      "2. feature temp (0.131615)\n",
      "3. feature year (0.057722)\n",
      "4. feature humidity (0.056898)\n",
      "5. feature is_workingday_0 (0.036920)\n",
      "6. feature month (0.036606)\n",
      "7. feature windspeed (0.035807)\n",
      "8. feature weekday (0.032343)\n",
      "9. feature is_workingday_1 (0.028488)\n",
      "10. feature weather_condition_3 (0.014790)\n",
      "11. feature season_1 (0.012270)\n",
      "12. feature season_4 (0.008287)\n",
      "13. feature weather_condition_1 (0.006320)\n",
      "14. feature weather_condition_2 (0.004877)\n",
      "15. feature season_2 (0.003347)\n",
      "16. feature season_3 (0.003084)\n",
      "17. feature is_holiday_0 (0.002263)\n",
      "18. feature is_holiday_1 (0.002110)\n",
      "19. feature weather_condition_4 (0.000005)\n"
     ]
    }
   ],
   "source": [
    "## Print the feature ranking\n",
    "print(\"Feature ranking:\")\n",
    "print(X_test.shape[1])\n",
    "for f in range(X_test.shape[1]):\n",
    "    print(\"%d. feature %s (%f)\" % (f + 1, features[indices[f]], importances[indices[f]]))"
   ]
  },
  {
   "cell_type": "code",
   "execution_count": 106,
   "metadata": {},
   "outputs": [
    {
     "data": {
      "image/png": "[encoded data removed]",
      "text/plain": [
       "<Figure size 2160x720 with 1 Axes>"
      ]
     },
     "metadata": {},
     "output_type": "display_data"
    }
   ],
   "source": [
    "# Plot the feature importances of the random forest\n",
    "#plt.figure(figsize=(14,5))\n",
    "plt.title(\"Feature importances\")\n",
    "plt.bar(range(X_test.shape[1]), importances[indices], yerr=std[indices], align=\"center\")\n",
    "plt.xticks(range(X_test.shape[1]), [features[i] for i in indices],rotation=45)\n",
    "plt.xlim([-1, X_test.shape[1]])\n",
    "plt.show()"
   ]
  },
  {
   "cell_type": "markdown",
   "metadata": {},
   "source": [
    "These are the main features and its relative importance in our developed model. From our EDA, we saw that hour of the day and temperature plays significant role, which is kind of reflected here as well."
   ]
  }
 ],
 "metadata": {
  "anaconda-cloud": {},
  "kernelspec": {
   "display_name": "Python 3",
   "language": "python",
   "name": "python3"
  },
  "language_info": {
   "codemirror_mode": {
    "name": "ipython",
    "version": 3
   },
   "file_extension": ".py",
   "mimetype": "text/x-python",
   "name": "python",
   "nbconvert_exporter": "python",
   "pygments_lexer": "ipython3",
   "version": "3.6.7"
  },
  "latex_envs": {
   "LaTeX_envs_menu_present": true,
   "autoclose": false,
   "autocomplete": true,
   "bibliofile": "biblio.bib",
   "cite_by": "apalike",
   "current_citInitial": 1,
   "eqLabelWithNumbers": true,
   "eqNumInitial": 1,
   "hotkeys": {
    "equation": "Ctrl-E",
    "itemize": "Ctrl-I"
   },
   "labels_anchors": false,
   "latex_user_defs": false,
   "report_style_numbering": false,
   "user_envs_cfg": false
  },
  "toc": {
   "base_numbering": 1,
   "nav_menu": {},
   "number_sections": true,
   "sideBar": true,
   "skip_h1_title": false,
   "title_cell": "Table of Contents",
   "title_sidebar": "Contents",
   "toc_cell": false,
   "toc_position": {
    "height": "calc(100% - 180px)",
    "left": "10px",
    "top": "150px",
    "width": "384px"
   },
   "toc_section_display": true,
   "toc_window_display": true
  }
 },
 "nbformat": 4,
 "nbformat_minor": 2
}
